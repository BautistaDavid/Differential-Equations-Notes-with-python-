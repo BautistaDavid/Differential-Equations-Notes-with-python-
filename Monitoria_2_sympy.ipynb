{
  "nbformat": 4,
  "nbformat_minor": 0,
  "metadata": {
    "colab": {
      "name": "Monitoria_2_sympy.ipynb",
      "provenance": [],
      "collapsed_sections": [
        "Mv27daSYL2JT"
      ],
      "authorship_tag": "ABX9TyMFq2SJq22Dr0jBVjVbN/2H",
      "include_colab_link": true
    },
    "kernelspec": {
      "name": "python3",
      "display_name": "Python 3"
    },
    "language_info": {
      "name": "python"
    }
  },
  "cells": [
    {
      "cell_type": "markdown",
      "metadata": {
        "id": "view-in-github",
        "colab_type": "text"
      },
      "source": [
        "<a href=\"https://colab.research.google.com/github/BautistaDavid/Monitorias_2021_2/blob/main/Monitoria_2_sympy.ipynb\" target=\"_parent\"><img src=\"https://colab.research.google.com/assets/colab-badge.svg\" alt=\"Open In Colab\"/></a>"
      ]
    },
    {
      "cell_type": "markdown",
      "metadata": {
        "id": "WaIWbPaGsEpe"
      },
      "source": [
        "#**¿Para que SymPy?**##\n"
      ]
    },
    {
      "cell_type": "markdown",
      "metadata": {
        "id": "m_Id4HEMsNC2"
      },
      "source": [
        "SymPy es una biblioteca de Python para matemáticas simbólicas. Su propósito es llegar a ser un sistema de álgebra por computadora (CAS) completo manteniendo el código tan simple como sea posible para poder ser legible y extensible de manera fácil"
      ]
    },
    {
      "cell_type": "markdown",
      "metadata": {
        "id": "8VJE18eM1qVA"
      },
      "source": [
        "## **Simbolos**"
      ]
    },
    {
      "cell_type": "code",
      "metadata": {
        "id": "1MQtbwc8Dri5"
      },
      "source": [
        "import sympy as sp"
      ],
      "execution_count": 2,
      "outputs": []
    },
    {
      "cell_type": "code",
      "metadata": {
        "id": "HOZuBSkisL0G"
      },
      "source": [
        "from sympy import *\n",
        "# Definir variables como simbolos\n",
        "x=Symbol(\"x\")\n",
        "x,y,z=symbols([\"x\",\"y\",\"z\"])"
      ],
      "execution_count": 10,
      "outputs": []
    },
    {
      "cell_type": "code",
      "metadata": {
        "colab": {
          "base_uri": "https://localhost:8080/",
          "height": 38
        },
        "id": "xINLLtA_sqOB",
        "outputId": "9bea996b-d6ee-4a81-8f9d-4cf35f9f119f"
      },
      "source": [
        ""
      ],
      "execution_count": 15,
      "outputs": [
        {
          "output_type": "execute_result",
          "data": {
            "text/latex": "$\\displaystyle x + z$",
            "text/plain": [
              "x + z"
            ]
          },
          "metadata": {
            "tags": []
          },
          "execution_count": 15
        }
      ]
    },
    {
      "cell_type": "code",
      "metadata": {
        "id": "qN7_jbQYs15U"
      },
      "source": [
        "x,y,z=symbols([\"x\",\"y\",\"z\"])"
      ],
      "execution_count": null,
      "outputs": []
    },
    {
      "cell_type": "code",
      "metadata": {
        "colab": {
          "base_uri": "https://localhost:8080/",
          "height": 38
        },
        "id": "xM9Wpms5twmx",
        "outputId": "77f92ebf-bc08-46bd-a9a1-77d6a0606979"
      },
      "source": [
        "z"
      ],
      "execution_count": null,
      "outputs": [
        {
          "output_type": "execute_result",
          "data": {
            "text/latex": "$\\displaystyle z$",
            "text/plain": [
              "z"
            ]
          },
          "metadata": {
            "tags": []
          },
          "execution_count": 16
        }
      ]
    },
    {
      "cell_type": "code",
      "metadata": {
        "colab": {
          "base_uri": "https://localhost:8080/",
          "height": 38
        },
        "id": "ZUJN0aCJt0MK",
        "outputId": "24fa84de-4698-4788-9dc8-9a892f1a8e6f"
      },
      "source": [
        "## Funciona como una calculadora simbolica "
      ],
      "execution_count": null,
      "outputs": [
        {
          "output_type": "execute_result",
          "data": {
            "text/latex": "$\\displaystyle 7 x$",
            "text/plain": [
              "7*x"
            ]
          },
          "metadata": {
            "tags": []
          },
          "execution_count": 17
        }
      ]
    },
    {
      "cell_type": "code",
      "metadata": {
        "colab": {
          "base_uri": "https://localhost:8080/",
          "height": 38
        },
        "id": "RzHmGYcOt154",
        "outputId": "db7192f9-554b-4830-e247-e836f3de61fb"
      },
      "source": [
        "a=7*x\n",
        "b=3*x\n",
        "a+b\n",
        "\n",
        "7*x+3*x"
      ],
      "execution_count": 17,
      "outputs": [
        {
          "output_type": "execute_result",
          "data": {
            "text/latex": "$\\displaystyle 10 x$",
            "text/plain": [
              "10*x"
            ]
          },
          "metadata": {
            "tags": []
          },
          "execution_count": 17
        }
      ]
    },
    {
      "cell_type": "code",
      "metadata": {
        "colab": {
          "base_uri": "https://localhost:8080/",
          "height": 38
        },
        "id": "Tw0En1t6uvZQ",
        "outputId": "1a130e70-5448-48a1-bac7-72fb1ac55ef3"
      },
      "source": [
        "a-b"
      ],
      "execution_count": null,
      "outputs": [
        {
          "output_type": "execute_result",
          "data": {
            "text/latex": "$\\displaystyle 4 x$",
            "text/plain": [
              "4*x"
            ]
          },
          "metadata": {
            "tags": []
          },
          "execution_count": 24
        }
      ]
    },
    {
      "cell_type": "code",
      "metadata": {
        "colab": {
          "base_uri": "https://localhost:8080/",
          "height": 38
        },
        "id": "aUfks7FjuCz_",
        "outputId": "765c48f1-6c26-474b-daa0-c73375e46861"
      },
      "source": [
        "a*a"
      ],
      "execution_count": 19,
      "outputs": [
        {
          "output_type": "execute_result",
          "data": {
            "text/latex": "$\\displaystyle 49 x^{2}$",
            "text/plain": [
              "49*x**2"
            ]
          },
          "metadata": {
            "tags": []
          },
          "execution_count": 19
        }
      ]
    },
    {
      "cell_type": "code",
      "metadata": {
        "colab": {
          "base_uri": "https://localhost:8080/",
          "height": 51
        },
        "id": "9Z9osaXkuxGU",
        "outputId": "fddc3b27-bf41-429d-9df5-ada42213a39f"
      },
      "source": [
        "a/b"
      ],
      "execution_count": null,
      "outputs": [
        {
          "output_type": "execute_result",
          "data": {
            "text/latex": "$\\displaystyle \\frac{7}{3}$",
            "text/plain": [
              "7/3"
            ]
          },
          "metadata": {
            "tags": []
          },
          "execution_count": 26
        }
      ]
    },
    {
      "cell_type": "markdown",
      "metadata": {
        "id": "7Q5YswCp1z1j"
      },
      "source": [
        "## **Factor-Expand-subs**"
      ]
    },
    {
      "cell_type": "code",
      "metadata": {
        "id": "vLSfWjePuyk1"
      },
      "source": [
        "# FACTOR y EXPAND "
      ],
      "execution_count": null,
      "outputs": []
    },
    {
      "cell_type": "code",
      "metadata": {
        "colab": {
          "base_uri": "https://localhost:8080/",
          "height": 38
        },
        "id": "y2jE317cvXqm",
        "outputId": "606731fd-8976-4875-89c4-2848618501fe"
      },
      "source": [
        "x=Symbol(\"x\")\n",
        "expr=x**2+6*x+9\n",
        "expr"
      ],
      "execution_count": 20,
      "outputs": [
        {
          "output_type": "execute_result",
          "data": {
            "text/latex": "$\\displaystyle x^{2} + 6 x + 9$",
            "text/plain": [
              "x**2 + 6*x + 9"
            ]
          },
          "metadata": {
            "tags": []
          },
          "execution_count": 20
        }
      ]
    },
    {
      "cell_type": "code",
      "metadata": {
        "colab": {
          "base_uri": "https://localhost:8080/",
          "height": 40
        },
        "id": "j9dw8A84vZmD",
        "outputId": "5c6687d9-e357-42e2-b94c-7158d9e6b1cf"
      },
      "source": [
        "expr_factor=factor(x**2+6*x+9)           #factor(expresion)   factorizar \n",
        "expr_factor                              # expanda(expresion)    expandir factor \n",
        "                                       # expresion.subs()"
      ],
      "execution_count": 28,
      "outputs": [
        {
          "output_type": "execute_result",
          "data": {
            "text/latex": "$\\displaystyle \\left(x + 3\\right)^{2}$",
            "text/plain": [
              "(x + 3)**2"
            ]
          },
          "metadata": {
            "tags": []
          },
          "execution_count": 28
        }
      ]
    },
    {
      "cell_type": "code",
      "metadata": {
        "colab": {
          "base_uri": "https://localhost:8080/",
          "height": 38
        },
        "id": "kVq8chT-vhIj",
        "outputId": "d5fd4bff-b236-48f1-e69a-92fc8e726493"
      },
      "source": [
        "ejemplo=expand(expr_factor)\n",
        "ejemplo"
      ],
      "execution_count": 29,
      "outputs": [
        {
          "output_type": "execute_result",
          "data": {
            "text/latex": "$\\displaystyle x^{2} + 6 x + 9$",
            "text/plain": [
              "x**2 + 6*x + 9"
            ]
          },
          "metadata": {
            "tags": []
          },
          "execution_count": 29
        }
      ]
    },
    {
      "cell_type": "code",
      "metadata": {
        "colab": {
          "base_uri": "https://localhost:8080/",
          "height": 40
        },
        "id": "MI3FFK8Nx5dT",
        "outputId": "8e0399f9-0ff4-4bed-a56b-fec16cbcdc63"
      },
      "source": [
        "factor(ejemplo)"
      ],
      "execution_count": 33,
      "outputs": [
        {
          "output_type": "execute_result",
          "data": {
            "text/latex": "$\\displaystyle \\left(x + 3\\right)^{2}$",
            "text/plain": [
              "(x + 3)**2"
            ]
          },
          "metadata": {
            "tags": []
          },
          "execution_count": 33
        }
      ]
    },
    {
      "cell_type": "markdown",
      "metadata": {
        "id": "kNc0EHoP2DtW"
      },
      "source": [
        "## **Derivar e integrar**"
      ]
    },
    {
      "cell_type": "markdown",
      "metadata": {
        "id": "J2OIfi7V7Cd1"
      },
      "source": [
        "### **Derivar**"
      ]
    },
    {
      "cell_type": "markdown",
      "metadata": {
        "id": "UnTsKJtz7HQc"
      },
      "source": [
        "$$f(x)=(5x^2-3)(x^2+x+4)$$"
      ]
    },
    {
      "cell_type": "code",
      "metadata": {
        "colab": {
          "base_uri": "https://localhost:8080/",
          "height": 38
        },
        "id": "1MVSdUEt7UFH",
        "outputId": "07535a4d-e90a-4817-b12a-b15135e488c5"
      },
      "source": [
        "\n",
        "x=Symbol(\"x\")\n",
        "expr=(5*x**2-3)*(x**2+x+4)\n",
        "expr"
      ],
      "execution_count": 35,
      "outputs": [
        {
          "output_type": "execute_result",
          "data": {
            "text/latex": "$\\displaystyle \\left(5 x^{2} - 3\\right) \\left(x^{2} + x + 4\\right)$",
            "text/plain": [
              "(5*x**2 - 3)*(x**2 + x + 4)"
            ]
          },
          "metadata": {
            "tags": []
          },
          "execution_count": 35
        }
      ]
    },
    {
      "cell_type": "code",
      "metadata": {
        "colab": {
          "base_uri": "https://localhost:8080/",
          "height": 38
        },
        "id": "bwcPnzU88EJp",
        "outputId": "f6ec0a54-43da-4ca1-9b79-8f3c9d76f212"
      },
      "source": [
        "#diff(funcion,variable)\n",
        "diff(x**2+3*x**3,x)                           #diff()  derivar  "
      ],
      "execution_count": 39,
      "outputs": [
        {
          "output_type": "execute_result",
          "data": {
            "text/latex": "$\\displaystyle 9 x^{2} + 2 x$",
            "text/plain": [
              "9*x**2 + 2*x"
            ]
          },
          "metadata": {
            "tags": []
          },
          "execution_count": 39
        }
      ]
    },
    {
      "cell_type": "code",
      "metadata": {
        "id": "MzDbFiTJ9Okh"
      },
      "source": [
        "expand(diff(expr,x))"
      ],
      "execution_count": null,
      "outputs": []
    },
    {
      "cell_type": "markdown",
      "metadata": {
        "id": "eSqp5oGE9q3y"
      },
      "source": [
        "$$f(x)=\\frac{4x^3}{5x^2y}$$"
      ]
    },
    {
      "cell_type": "code",
      "metadata": {
        "colab": {
          "base_uri": "https://localhost:8080/",
          "height": 54
        },
        "id": "3JZqyF6K9-FS",
        "outputId": "b1414fb4-4b25-4437-b600-65764177b58a"
      },
      "source": [
        "x,y=symbols([\"x\",\"y\"])\n",
        "f=(4*x**3)/(5*x**2*y)\n",
        "f"
      ],
      "execution_count": 42,
      "outputs": [
        {
          "output_type": "execute_result",
          "data": {
            "text/latex": "$\\displaystyle \\frac{4 x}{5 y}$",
            "text/plain": [
              "4*x/(5*y)"
            ]
          },
          "metadata": {
            "tags": []
          },
          "execution_count": 42
        }
      ]
    },
    {
      "cell_type": "code",
      "metadata": {
        "colab": {
          "base_uri": "https://localhost:8080/",
          "height": 54
        },
        "id": "kgG6LudC-aBx",
        "outputId": "5b88746b-7489-444f-b6f8-f38d94cf7e0c"
      },
      "source": [
        "derivad_f_x=diff(f,x)\n",
        "derivad_f_x"
      ],
      "execution_count": 44,
      "outputs": [
        {
          "output_type": "execute_result",
          "data": {
            "text/latex": "$\\displaystyle \\frac{4}{5 y}$",
            "text/plain": [
              "4/(5*y)"
            ]
          },
          "metadata": {
            "tags": []
          },
          "execution_count": 44
        }
      ]
    },
    {
      "cell_type": "code",
      "metadata": {
        "colab": {
          "base_uri": "https://localhost:8080/",
          "height": 54
        },
        "id": "Pj7rXT26H6yK",
        "outputId": "fc5398d0-967a-4e35-e226-0a374bf7bda4"
      },
      "source": [
        "f.diff(x)"
      ],
      "execution_count": 50,
      "outputs": [
        {
          "output_type": "execute_result",
          "data": {
            "text/latex": "$\\displaystyle \\frac{4}{5 y}$",
            "text/plain": [
              "4/(5*y)"
            ]
          },
          "metadata": {
            "tags": []
          },
          "execution_count": 50
        }
      ]
    },
    {
      "cell_type": "markdown",
      "metadata": {
        "id": "1PSp1bcO-qFd"
      },
      "source": [
        "### **Integrar**"
      ]
    },
    {
      "cell_type": "markdown",
      "metadata": {
        "id": "Iet7luDs2TWa"
      },
      "source": [
        "$$\\int\\frac{3x+7}{x^2+6x+5} dx \\hspace{0.5cm} \\textrm{Metodo:}\\\\\n",
        "$$\n"
      ]
    },
    {
      "cell_type": "code",
      "metadata": {
        "colab": {
          "base_uri": "https://localhost:8080/",
          "height": 52
        },
        "id": "1Akp0Jr4wKFF",
        "outputId": "41168c29-4ed9-4eb4-82a3-4660724afbd7"
      },
      "source": [
        "expr=(3*x+7)/(x**2+6*x+5)    \n",
        "expr"
      ],
      "execution_count": 52,
      "outputs": [
        {
          "output_type": "execute_result",
          "data": {
            "text/latex": "$\\displaystyle \\frac{3 x + 7}{x^{2} + 6 x + 5}$",
            "text/plain": [
              "(3*x + 7)/(x**2 + 6*x + 5)"
            ]
          },
          "metadata": {
            "tags": []
          },
          "execution_count": 52
        }
      ]
    },
    {
      "cell_type": "code",
      "metadata": {
        "colab": {
          "base_uri": "https://localhost:8080/",
          "height": 38
        },
        "id": "F8Fn_osgxkfd",
        "outputId": "5732e5d1-6207-43ab-cac7-fc0475b89e28"
      },
      "source": [
        "#integrate(funcion,variable) -> Integrar \n",
        "expr.integrate(x)"
      ],
      "execution_count": 54,
      "outputs": [
        {
          "output_type": "execute_result",
          "data": {
            "text/latex": "$\\displaystyle \\log{\\left(x + 1 \\right)} + 2 \\log{\\left(x + 5 \\right)}$",
            "text/plain": [
              "log(x + 1) + 2*log(x + 5)"
            ]
          },
          "metadata": {
            "tags": []
          },
          "execution_count": 54
        }
      ]
    },
    {
      "cell_type": "markdown",
      "metadata": {
        "id": "ZnJxtZrZ5W01"
      },
      "source": [
        "**Tener en cuenta las constantes...**\n",
        "\n",
        "$$\\int\\frac{4k}{x}dx$$"
      ]
    },
    {
      "cell_type": "code",
      "metadata": {
        "colab": {
          "base_uri": "https://localhost:8080/",
          "height": 52
        },
        "id": "3bd92Tfm5rvP",
        "outputId": "1aebaa12-3f1a-4794-c764-22e90cade21e"
      },
      "source": [
        "k,x=symbols([\"k\",\"x\"])\n",
        "g=(4*k)/x\n",
        "g"
      ],
      "execution_count": 57,
      "outputs": [
        {
          "output_type": "execute_result",
          "data": {
            "text/latex": "$\\displaystyle \\frac{4 k}{x}$",
            "text/plain": [
              "4*k/x"
            ]
          },
          "metadata": {
            "tags": []
          },
          "execution_count": 57
        }
      ]
    },
    {
      "cell_type": "code",
      "metadata": {
        "colab": {
          "base_uri": "https://localhost:8080/",
          "height": 38
        },
        "id": "j2NuCSl75wvv",
        "outputId": "310684b6-0f43-4c9f-aa4a-557445180ec4"
      },
      "source": [
        "g.integrate(x)"
      ],
      "execution_count": 58,
      "outputs": [
        {
          "output_type": "execute_result",
          "data": {
            "text/latex": "$\\displaystyle 4 k \\log{\\left(x \\right)}$",
            "text/plain": [
              "4*k*log(x)"
            ]
          },
          "metadata": {
            "tags": []
          },
          "execution_count": 58
        }
      ]
    },
    {
      "cell_type": "markdown",
      "metadata": {
        "id": "z4ipExUVwLNf"
      },
      "source": [
        "## **Ecuaciones**"
      ]
    },
    {
      "cell_type": "code",
      "metadata": {
        "id": "R9BCVmPrvjpk"
      },
      "source": [
        "x,y,z,t=symbols([\"x\",\"y\",\"z\",\"t\"])"
      ],
      "execution_count": 84,
      "outputs": []
    },
    {
      "cell_type": "code",
      "metadata": {
        "colab": {
          "base_uri": "https://localhost:8080/",
          "height": 38
        },
        "id": "fWICEZxB_Q4w",
        "outputId": "0bd5f4e0-5367-4e9a-c9af-ae2ff372416d"
      },
      "source": [
        "#PLantear Ecuaciones\n",
        "\n",
        "ec1=Eq(3*x+8*x**2,25)\n",
        "ec1"
      ],
      "execution_count": 85,
      "outputs": [
        {
          "output_type": "execute_result",
          "data": {
            "text/latex": "$\\displaystyle 8 x^{2} + 3 x = 25$",
            "text/plain": [
              "Eq(8*x**2 + 3*x, 25)"
            ]
          },
          "metadata": {
            "tags": []
          },
          "execution_count": 85
        }
      ]
    },
    {
      "cell_type": "code",
      "metadata": {
        "colab": {
          "base_uri": "https://localhost:8080/",
          "height": 56
        },
        "id": "YnpXm6Uv_kP1",
        "outputId": "9c1181db-3c3b-4e11-de5a-84f1d2d92707"
      },
      "source": [
        "solve(ec1)[1]"
      ],
      "execution_count": 88,
      "outputs": [
        {
          "output_type": "execute_result",
          "data": {
            "text/latex": "$\\displaystyle - \\frac{\\sqrt{809}}{16} - \\frac{3}{16}$",
            "text/plain": [
              "-sqrt(809)/16 - 3/16"
            ]
          },
          "metadata": {
            "tags": []
          },
          "execution_count": 88
        }
      ]
    },
    {
      "cell_type": "code",
      "metadata": {
        "colab": {
          "base_uri": "https://localhost:8080/",
          "height": 38
        },
        "id": "AFRPY4zmAEgm",
        "outputId": "b9a8347b-f688-4926-a0ef-8368cd867567"
      },
      "source": [
        "expr=x**2-11*x+30\n",
        "ec1=Eq(expr,0)\n",
        "ec1"
      ],
      "execution_count": null,
      "outputs": [
        {
          "output_type": "execute_result",
          "data": {
            "text/latex": "$\\displaystyle x^{2} - 11 x + 30 = 0$",
            "text/plain": [
              "Eq(x**2 - 11*x + 30, 0)"
            ]
          },
          "metadata": {
            "tags": []
          },
          "execution_count": 104
        }
      ]
    },
    {
      "cell_type": "code",
      "metadata": {
        "colab": {
          "base_uri": "https://localhost:8080/"
        },
        "id": "BhtyxtfoAiFd",
        "outputId": "22c72aad-d10f-41c1-f0d8-23b6b4248eb5"
      },
      "source": [
        "solve(ec1)"
      ],
      "execution_count": null,
      "outputs": [
        {
          "output_type": "execute_result",
          "data": {
            "text/plain": [
              "[5, 6]"
            ]
          },
          "metadata": {
            "tags": []
          },
          "execution_count": 105
        }
      ]
    },
    {
      "cell_type": "code",
      "metadata": {
        "colab": {
          "base_uri": "https://localhost:8080/",
          "height": 37
        },
        "id": "aje5YrCZAprm",
        "outputId": "daf7d5f0-8c6f-461c-b6bd-0eec95869704"
      },
      "source": [
        "solve(ec1)[0]"
      ],
      "execution_count": null,
      "outputs": [
        {
          "output_type": "execute_result",
          "data": {
            "text/latex": "$\\displaystyle 5$",
            "text/plain": [
              "5"
            ]
          },
          "metadata": {
            "tags": []
          },
          "execution_count": 107
        }
      ]
    },
    {
      "cell_type": "code",
      "metadata": {
        "colab": {
          "base_uri": "https://localhost:8080/",
          "height": 37
        },
        "id": "nPI0ghdXAwYG",
        "outputId": "2560064b-ccc1-450a-c70d-9b1ec545201b"
      },
      "source": [
        "solve(ec1)[1]"
      ],
      "execution_count": null,
      "outputs": [
        {
          "output_type": "execute_result",
          "data": {
            "text/latex": "$\\displaystyle 6$",
            "text/plain": [
              "6"
            ]
          },
          "metadata": {
            "tags": []
          },
          "execution_count": 108
        }
      ]
    },
    {
      "cell_type": "markdown",
      "metadata": {
        "id": "SrmBq6gfCyIu"
      },
      "source": [
        "$$max\\hspace{0.7cm} x(y+4)$$\n",
        "$$S.a\\hspace{0.7cm} x+y=8$$"
      ]
    },
    {
      "cell_type": "code",
      "metadata": {
        "id": "EcWjd88UA0Rc"
      },
      "source": [
        "l=Symbol(\"l\") #lambda\n",
        "funcion=x*(y+4)\n",
        "restriccion=8-x-y\n",
        "lagrangeano=funcion+l*restriccion"
      ],
      "execution_count": null,
      "outputs": []
    },
    {
      "cell_type": "code",
      "metadata": {
        "colab": {
          "base_uri": "https://localhost:8080/"
        },
        "id": "vmAcBtDhA0fe",
        "outputId": "a4397fc8-444e-4898-dca6-cb8628af9892"
      },
      "source": [
        "lagrangeano.free_symbols"
      ],
      "execution_count": null,
      "outputs": [
        {
          "output_type": "execute_result",
          "data": {
            "text/plain": [
              "{l, x, y}"
            ]
          },
          "metadata": {
            "tags": []
          },
          "execution_count": 119
        }
      ]
    },
    {
      "cell_type": "code",
      "metadata": {
        "colab": {
          "base_uri": "https://localhost:8080/"
        },
        "id": "m_1UFixXEbxM",
        "outputId": "d139814e-dbaa-464c-8e9d-d7cf22ce1954"
      },
      "source": [
        "cpo=[]\n",
        "\n",
        "for variable in lagrangeano.free_symbols:\n",
        "  cpo.append(diff(lagrangeano,variable))\n",
        "cpo"
      ],
      "execution_count": null,
      "outputs": [
        {
          "output_type": "execute_result",
          "data": {
            "text/plain": [
              "[-l + y + 4, -l + x, -x - y + 8]"
            ]
          },
          "metadata": {
            "tags": []
          },
          "execution_count": 129
        }
      ]
    },
    {
      "cell_type": "code",
      "metadata": {
        "colab": {
          "base_uri": "https://localhost:8080/"
        },
        "id": "TVq7dQExFDCx",
        "outputId": "58d6ae49-6dcf-4086-e8eb-18113ed11c5b"
      },
      "source": [
        "solve(cpo,list(lagrangeano.free_symbols))"
      ],
      "execution_count": null,
      "outputs": [
        {
          "output_type": "execute_result",
          "data": {
            "text/plain": [
              "{l: 6, x: 6, y: 2}"
            ]
          },
          "metadata": {
            "tags": []
          },
          "execution_count": 132
        }
      ]
    },
    {
      "cell_type": "markdown",
      "metadata": {
        "id": "6YNCJlgevw_r"
      },
      "source": [
        "## **Simbolos-Funciones**"
      ]
    },
    {
      "cell_type": "code",
      "metadata": {
        "id": "MvOZASPjv7Ig"
      },
      "source": [
        "t=Symbol(\"t\")\n",
        "x=Function(\"x\")"
      ],
      "execution_count": 63,
      "outputs": []
    },
    {
      "cell_type": "code",
      "metadata": {
        "colab": {
          "base_uri": "https://localhost:8080/",
          "height": 38
        },
        "id": "jiGwJl-YwOxg",
        "outputId": "e8818efd-1a57-46ab-d65a-d40e1779504a"
      },
      "source": [
        "x(t)"
      ],
      "execution_count": 66,
      "outputs": [
        {
          "output_type": "execute_result",
          "data": {
            "text/latex": "$\\displaystyle x{\\left(t \\right)}$",
            "text/plain": [
              "x(t)"
            ]
          },
          "metadata": {
            "tags": []
          },
          "execution_count": 66
        }
      ]
    },
    {
      "cell_type": "markdown",
      "metadata": {
        "id": "hzLuLmzywV3w"
      },
      "source": [
        "## **Aproximación a las ecuaciones diferenciales con Sympy**"
      ]
    },
    {
      "cell_type": "code",
      "metadata": {
        "id": "RC0v0Vs4wVKD"
      },
      "source": [
        "from sympy import *\n",
        "t,k=symbols([\"t\",\"k\"])\n",
        "x=Function(\"x\")"
      ],
      "execution_count": null,
      "outputs": []
    },
    {
      "cell_type": "markdown",
      "metadata": {
        "id": "6Y3gyxtoLdYb"
      },
      "source": [
        "### **Autonoma**"
      ]
    },
    {
      "cell_type": "markdown",
      "metadata": {
        "id": "5DACoie6TQ-e"
      },
      "source": [
        "$$\\frac{dx}{dt}=kx$$\n",
        "\n",
        "$$\\frac{dx}{x}=k dt$$\n",
        "\n",
        "$$\\int x^{-1}dx=\\int k dt$$\n",
        "\n",
        "$$ln(x)=kt+C_1$$\n",
        "\n",
        "$$x=e^{kt+C_1}$$\n",
        "\n",
        "$$x=C_1e^{kt}$$\n",
        "\n"
      ]
    },
    {
      "cell_type": "code",
      "metadata": {
        "colab": {
          "base_uri": "https://localhost:8080/",
          "height": 52
        },
        "id": "UwnAm6MTKzQe",
        "outputId": "436ea5ad-1c80-41ff-ecab-c78cf6292e49"
      },
      "source": [
        "x=Function(\"x\")\n",
        "t,k=symbols([\"t\",\"k\"])\n",
        "\n",
        "#ec1=Eq(#lo que esta antes del igual,lo que esta despues del igual)\n",
        "ec1=Eq(x(t).diff(t),k*x(t))\n",
        "ec1"
      ],
      "execution_count": 72,
      "outputs": [
        {
          "output_type": "execute_result",
          "data": {
            "text/latex": "$\\displaystyle \\frac{d}{d t} x{\\left(t \\right)} = k x{\\left(t \\right)}$",
            "text/plain": [
              "Eq(Derivative(x(t), t), k*x(t))"
            ]
          },
          "metadata": {
            "tags": []
          },
          "execution_count": 72
        }
      ]
    },
    {
      "cell_type": "code",
      "metadata": {
        "colab": {
          "base_uri": "https://localhost:8080/",
          "height": 38
        },
        "id": "o8gf2dXlMUej",
        "outputId": "f34ff4f2-1a89-48f8-99e3-3dd99efbfb21"
      },
      "source": [
        "dsolve(ec1)"
      ],
      "execution_count": 73,
      "outputs": [
        {
          "output_type": "execute_result",
          "data": {
            "text/latex": "$\\displaystyle x{\\left(t \\right)} = C_{1} e^{k t}$",
            "text/plain": [
              "Eq(x(t), C1*exp(k*t))"
            ]
          },
          "metadata": {
            "tags": []
          },
          "execution_count": 73
        }
      ]
    },
    {
      "cell_type": "code",
      "metadata": {
        "colab": {
          "base_uri": "https://localhost:8080/",
          "height": 51
        },
        "id": "n1b22f4Vws4y",
        "outputId": "77859618-ca57-470c-e195-a7d1847523d1"
      },
      "source": [
        "ec1=Eq(x(t).diff(t),k*x(t))   # la variable independiente (t) no aparece explicitamente \n",
        "ec1"
      ],
      "execution_count": null,
      "outputs": [
        {
          "output_type": "execute_result",
          "data": {
            "text/latex": "$\\displaystyle \\frac{d}{d t} x{\\left(t \\right)} = k x{\\left(t \\right)}$",
            "text/plain": [
              "Eq(Derivative(x(t), t), k*x(t))"
            ]
          },
          "metadata": {
            "tags": []
          },
          "execution_count": 4
        }
      ]
    },
    {
      "cell_type": "code",
      "metadata": {
        "colab": {
          "base_uri": "https://localhost:8080/",
          "height": 38
        },
        "id": "vtnSlyP0xIGy",
        "outputId": "10cd15d4-eba9-48eb-a776-79c17aa28100"
      },
      "source": [
        "dsolve(ec1)"
      ],
      "execution_count": null,
      "outputs": [
        {
          "output_type": "execute_result",
          "data": {
            "text/latex": "$\\displaystyle x{\\left(t \\right)} = C_{1} e^{k t}$",
            "text/plain": [
              "Eq(x(t), C1*exp(k*t))"
            ]
          },
          "metadata": {
            "tags": []
          },
          "execution_count": 5
        }
      ]
    },
    {
      "cell_type": "markdown",
      "metadata": {
        "id": "42xF8VBgLjD2"
      },
      "source": [
        "### **Separable**"
      ]
    },
    {
      "cell_type": "markdown",
      "metadata": {
        "id": "eICLgYDY7W1Q"
      },
      "source": [
        "$$\\frac{dx(t)}{dt}=t+2$$"
      ]
    },
    {
      "cell_type": "code",
      "metadata": {
        "id": "AOwf0jdIOZ9P"
      },
      "source": [
        "x=Function(\"x\")\n",
        "t=Symbol(\"t\")\n",
        "\n",
        "diff(expresion,variable a derivar )\n",
        "expresion.diff(variable a derivar)"
      ],
      "execution_count": 74,
      "outputs": []
    },
    {
      "cell_type": "code",
      "metadata": {
        "colab": {
          "base_uri": "https://localhost:8080/",
          "height": 52
        },
        "id": "gWzGzsj-PLZ_",
        "outputId": "786f1452-72e8-446e-e4e3-fa02ad9558a1"
      },
      "source": [
        "x(t).diff(t)"
      ],
      "execution_count": 79,
      "outputs": [
        {
          "output_type": "execute_result",
          "data": {
            "text/latex": "$\\displaystyle \\frac{d}{d t} x{\\left(t \\right)}$",
            "text/plain": [
              "Derivative(x(t), t)"
            ]
          },
          "metadata": {
            "tags": []
          },
          "execution_count": 79
        }
      ]
    },
    {
      "cell_type": "code",
      "metadata": {
        "colab": {
          "base_uri": "https://localhost:8080/",
          "height": 52
        },
        "id": "01lEwZOt0TBU",
        "outputId": "fc3a0cab-c7ad-4f16-af7e-0006e4dc1fe7"
      },
      "source": [
        "ec1=Eq(x(t).diff(t),t+2) \n",
        "ec1                                 # Ecuaciones difrenciales Separables   variable independiente aparece explicitamen"
      ],
      "execution_count": 81,
      "outputs": [
        {
          "output_type": "execute_result",
          "data": {
            "text/latex": "$\\displaystyle \\frac{d}{d t} x{\\left(t \\right)} = t + 2$",
            "text/plain": [
              "Eq(Derivative(x(t), t), t + 2)"
            ]
          },
          "metadata": {
            "tags": []
          },
          "execution_count": 81
        }
      ]
    },
    {
      "cell_type": "code",
      "metadata": {
        "colab": {
          "base_uri": "https://localhost:8080/",
          "height": 53
        },
        "id": "WnzBf3lB0TD4",
        "outputId": "1c974604-f47a-454d-b36a-f3b05d163bb7"
      },
      "source": [
        "dsolve(ec1)"
      ],
      "execution_count": 82,
      "outputs": [
        {
          "output_type": "execute_result",
          "data": {
            "text/latex": "$\\displaystyle x{\\left(t \\right)} = C_{1} + \\frac{t^{2}}{2} + 2 t$",
            "text/plain": [
              "Eq(x(t), C1 + t**2/2 + 2*t)"
            ]
          },
          "metadata": {
            "tags": []
          },
          "execution_count": 82
        }
      ]
    },
    {
      "cell_type": "markdown",
      "metadata": {
        "id": "JenQ9bM9Lp-m"
      },
      "source": [
        "### **Homogeneas**"
      ]
    },
    {
      "cell_type": "code",
      "metadata": {
        "colab": {
          "base_uri": "https://localhost:8080/",
          "height": 52
        },
        "id": "9ru8gDyH0THt",
        "outputId": "e749cc34-da3c-45f9-ace1-98e23d128fbe"
      },
      "source": [
        "ec1=Eq(x(t).diff(t),(x(t)+t)/t)\n",
        "ec1                          #Ecuaciones diferenciales homogeneas "
      ],
      "execution_count": null,
      "outputs": [
        {
          "output_type": "execute_result",
          "data": {
            "text/latex": "$\\displaystyle \\frac{d}{d t} x{\\left(t \\right)} = \\frac{t + x{\\left(t \\right)}}{t}$",
            "text/plain": [
              "Eq(Derivative(x(t), t), (t + x(t))/t)"
            ]
          },
          "metadata": {
            "tags": []
          },
          "execution_count": 8
        }
      ]
    },
    {
      "cell_type": "code",
      "metadata": {
        "colab": {
          "base_uri": "https://localhost:8080/",
          "height": 38
        },
        "id": "5mV4NqGMAcA9",
        "outputId": "b821ad2c-3a37-4ede-8448-400be714971c"
      },
      "source": [
        "dsolve(ec1)"
      ],
      "execution_count": null,
      "outputs": [
        {
          "output_type": "execute_result",
          "data": {
            "text/latex": "$\\displaystyle x{\\left(t \\right)} = t \\left(C_{1} + \\log{\\left(t \\right)}\\right)$",
            "text/plain": [
              "Eq(x(t), t*(C1 + log(t)))"
            ]
          },
          "metadata": {
            "tags": []
          },
          "execution_count": 9
        }
      ]
    },
    {
      "cell_type": "markdown",
      "metadata": {
        "id": "Mv27daSYL2JT"
      },
      "source": [
        "### **Lineal No Homogenea No Autonoma**"
      ]
    },
    {
      "cell_type": "code",
      "metadata": {
        "id": "Gg-Pk2e8A14n",
        "colab": {
          "base_uri": "https://localhost:8080/",
          "height": 51
        },
        "outputId": "a457956a-a465-44f1-c3ab-a0f86c7258b1"
      },
      "source": [
        "\n",
        "ec1=Eq(x(t).diff(t)+x(t)-3,0)   \n",
        "ec1          #Ecuaciones diferenciales lineal no homogeneas no autonomas "
      ],
      "execution_count": null,
      "outputs": [
        {
          "output_type": "execute_result",
          "data": {
            "text/latex": "$\\displaystyle x{\\left(t \\right)} + \\frac{d}{d t} x{\\left(t \\right)} - 3 = 0$",
            "text/plain": [
              "Eq(x(t) + Derivative(x(t), t) - 3, 0)"
            ]
          },
          "metadata": {
            "tags": []
          },
          "execution_count": 10
        }
      ]
    },
    {
      "cell_type": "code",
      "metadata": {
        "id": "C7iD6cWsA2H1",
        "colab": {
          "base_uri": "https://localhost:8080/",
          "height": 38
        },
        "outputId": "b5965a6d-9021-44dd-8295-083291258383"
      },
      "source": [
        "dsolve(ec1)"
      ],
      "execution_count": null,
      "outputs": [
        {
          "output_type": "execute_result",
          "data": {
            "text/latex": "$\\displaystyle x{\\left(t \\right)} = C_{1} e^{- t} + 3$",
            "text/plain": [
              "Eq(x(t), C1*exp(-t) + 3)"
            ]
          },
          "metadata": {
            "tags": []
          },
          "execution_count": 11
        }
      ]
    },
    {
      "cell_type": "markdown",
      "metadata": {
        "id": "H6_zexQVMCKB"
      },
      "source": [
        "### **Bernulli**"
      ]
    },
    {
      "cell_type": "code",
      "metadata": {
        "id": "yDXu6B2UQ5XE"
      },
      "source": [
        ""
      ],
      "execution_count": null,
      "outputs": []
    },
    {
      "cell_type": "markdown",
      "metadata": {
        "id": "hzBgR2VQRx3i"
      },
      "source": [
        "> Nota: Recordar lo de la nomenclatura.\n",
        "\n",
        "$$\\frac{dy}{dx}+p(x)y=q(x)y^n$$\n",
        "\n",
        "$$\\dot{x}+p(t)x=q(t)x^n\\hspace{1.5cm} \\text{Notese que}\\rightarrow \\dot{x}=\\frac{dx}{dt}$$\n",
        "\n",
        "\n",
        "**Ejemplo versión 1:**\n",
        "\n",
        "$$\\frac{dy}{dx}-y=e^xy^2$$\n",
        "\n",
        "**Ejemplo Versión 2:**\n",
        "\n",
        "$$\\dot{x}-x=e^tx^2$$\n"
      ]
    },
    {
      "cell_type": "code",
      "metadata": {
        "colab": {
          "base_uri": "https://localhost:8080/",
          "height": 51
        },
        "id": "19bznchu_otr",
        "outputId": "a317aaf5-0533-4e80-dcfa-1505056e29c9"
      },
      "source": [
        "# Solución versión 1\n",
        "y=Function(\"y\")\n",
        "x=Symbol(\"x\")\n",
        "\n",
        "ec1=Eq(y(x).diff(x)-y(x),exp(x)*y(x)**2)\n",
        "ec1"
      ],
      "execution_count": null,
      "outputs": [
        {
          "output_type": "execute_result",
          "data": {
            "text/latex": "$\\displaystyle - y{\\left(x \\right)} + \\frac{d}{d x} y{\\left(x \\right)} = y^{2}{\\left(x \\right)} e^{x}$",
            "text/plain": [
              "Eq(-y(x) + Derivative(y(x), x), y(x)**2*exp(x))"
            ]
          },
          "metadata": {
            "tags": []
          },
          "execution_count": 61
        }
      ]
    },
    {
      "cell_type": "code",
      "metadata": {
        "colab": {
          "base_uri": "https://localhost:8080/",
          "height": 53
        },
        "id": "qYQGX2NH_oxO",
        "outputId": "2181cd57-c17c-40f0-b05c-200a952af954"
      },
      "source": [
        "dsolve(ec1)"
      ],
      "execution_count": null,
      "outputs": [
        {
          "output_type": "execute_result",
          "data": {
            "text/latex": "$\\displaystyle y{\\left(x \\right)} = \\frac{2 e^{x}}{C_{1} - e^{2 x}}$",
            "text/plain": [
              "Eq(y(x), 2*exp(x)/(C1 - exp(2*x)))"
            ]
          },
          "metadata": {
            "tags": []
          },
          "execution_count": 62
        }
      ]
    },
    {
      "cell_type": "code",
      "metadata": {
        "colab": {
          "base_uri": "https://localhost:8080/",
          "height": 51
        },
        "id": "FBFUjHLz_o0u",
        "outputId": "9b08a4c0-389d-4e5b-98b6-9a0b438bb32e"
      },
      "source": [
        "#Solución Versión 2\n",
        "\n",
        "x=Function(\"x\")\n",
        "t=Symbol(\"t\")\n",
        "\n",
        "ec1=Eq(x(t).diff(t)-x(t),exp(t)*x(t)**2)\n",
        "ec1"
      ],
      "execution_count": null,
      "outputs": [
        {
          "output_type": "execute_result",
          "data": {
            "text/latex": "$\\displaystyle - x{\\left(t \\right)} + \\frac{d}{d t} x{\\left(t \\right)} = x^{2}{\\left(t \\right)} e^{t}$",
            "text/plain": [
              "Eq(-x(t) + Derivative(x(t), t), x(t)**2*exp(t))"
            ]
          },
          "metadata": {
            "tags": []
          },
          "execution_count": 70
        }
      ]
    },
    {
      "cell_type": "code",
      "metadata": {
        "id": "q9wMR_RUzxAj",
        "colab": {
          "base_uri": "https://localhost:8080/",
          "height": 56
        },
        "outputId": "d53d8873-ae6c-4bbf-bd17-d53ef7085b40"
      },
      "source": [
        "dsolve(ec1)"
      ],
      "execution_count": null,
      "outputs": [
        {
          "output_type": "execute_result",
          "data": {
            "text/latex": "$\\displaystyle x{\\left(t \\right)} = \\frac{2 e^{t}}{C_{1} - e^{2 t}}$",
            "text/plain": [
              "Eq(x(t), 2*exp(t)/(C1 - exp(2*t)))"
            ]
          },
          "metadata": {
            "tags": []
          },
          "execution_count": 71
        }
      ]
    },
    {
      "cell_type": "code",
      "metadata": {
        "id": "5r-u3dhR0B7j"
      },
      "source": [
        "a=t**3\n",
        "a.subs(t,2)"
      ],
      "execution_count": null,
      "outputs": []
    },
    {
      "cell_type": "code",
      "metadata": {
        "id": "LOPwsIlSxmn5"
      },
      "source": [
        ""
      ],
      "execution_count": null,
      "outputs": []
    },
    {
      "cell_type": "code",
      "metadata": {
        "id": "6-jvcXqGDigA"
      },
      "source": [
        ""
      ],
      "execution_count": null,
      "outputs": []
    },
    {
      "cell_type": "code",
      "metadata": {
        "id": "_3HlCRUdD1nA"
      },
      "source": [
        "datos"
      ],
      "execution_count": null,
      "outputs": []
    },
    {
      "cell_type": "code",
      "metadata": {
        "id": "6cfIO43jCpbl"
      },
      "source": [
        "!pip install finnhub-python"
      ],
      "execution_count": null,
      "outputs": []
    },
    {
      "cell_type": "code",
      "metadata": {
        "id": "3LR2ZP33CtXP"
      },
      "source": [
        ""
      ],
      "execution_count": null,
      "outputs": []
    },
    {
      "cell_type": "code",
      "metadata": {
        "id": "BPqWLkTCRA_u"
      },
      "source": [
        ""
      ],
      "execution_count": null,
      "outputs": []
    },
    {
      "cell_type": "code",
      "metadata": {
        "id": "bXTOZtvSRBDO"
      },
      "source": [
        ""
      ],
      "execution_count": null,
      "outputs": []
    },
    {
      "cell_type": "code",
      "metadata": {
        "id": "of-gYkQLRBHM"
      },
      "source": [
        ""
      ],
      "execution_count": null,
      "outputs": []
    },
    {
      "cell_type": "code",
      "metadata": {
        "id": "qcdFilXKRBKZ"
      },
      "source": [
        ""
      ],
      "execution_count": null,
      "outputs": []
    },
    {
      "cell_type": "code",
      "metadata": {
        "id": "MpvCKLfFRBOh"
      },
      "source": [
        ""
      ],
      "execution_count": null,
      "outputs": []
    },
    {
      "cell_type": "markdown",
      "metadata": {
        "id": "NxcSJaSfRCwh"
      },
      "source": [
        "$$\\frac{dy}{dx}=ky$$"
      ]
    },
    {
      "cell_type": "code",
      "metadata": {
        "id": "CUs1EY6IRMnB"
      },
      "source": [
        "y=Function(\"y\")\n",
        "x,k=symbols([\"x\",\"k\"])\n",
        "\n"
      ],
      "execution_count": 91,
      "outputs": []
    },
    {
      "cell_type": "code",
      "metadata": {
        "id": "NSIOWYyDRUja"
      },
      "source": [
        "ec2=Eq(y(x).diff(x),k*y(x))"
      ],
      "execution_count": 98,
      "outputs": []
    },
    {
      "cell_type": "code",
      "metadata": {
        "colab": {
          "base_uri": "https://localhost:8080/",
          "height": 52
        },
        "id": "-yBLD-k8Rkf-",
        "outputId": "9e986a31-ea33-4a5e-d7ac-c50812f58e0c"
      },
      "source": [
        "ec2"
      ],
      "execution_count": 99,
      "outputs": [
        {
          "output_type": "execute_result",
          "data": {
            "text/latex": "$\\displaystyle \\frac{d}{d x} y{\\left(x \\right)} = k y{\\left(x \\right)}$",
            "text/plain": [
              "Eq(Derivative(y(x), x), k*y(x))"
            ]
          },
          "metadata": {
            "tags": []
          },
          "execution_count": 99
        }
      ]
    },
    {
      "cell_type": "code",
      "metadata": {
        "colab": {
          "base_uri": "https://localhost:8080/",
          "height": 38
        },
        "id": "biNII1J5RnCE",
        "outputId": "5aa2fc00-7e29-48f7-80ce-7d4d61ade2fb"
      },
      "source": [
        "dsolve(ec2)"
      ],
      "execution_count": 100,
      "outputs": [
        {
          "output_type": "execute_result",
          "data": {
            "text/latex": "$\\displaystyle y{\\left(x \\right)} = C_{1} e^{k x}$",
            "text/plain": [
              "Eq(y(x), C1*exp(k*x))"
            ]
          },
          "metadata": {
            "tags": []
          },
          "execution_count": 100
        }
      ]
    },
    {
      "cell_type": "code",
      "metadata": {
        "id": "mZkkPdDqRwFY"
      },
      "source": [
        ""
      ],
      "execution_count": null,
      "outputs": []
    }
  ]
}