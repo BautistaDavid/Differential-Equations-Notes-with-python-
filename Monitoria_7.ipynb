{
  "nbformat": 4,
  "nbformat_minor": 0,
  "metadata": {
    "colab": {
      "name": "Monitoria_7.ipynb",
      "provenance": [],
      "authorship_tag": "ABX9TyNzMjwB8kGCbpTTCDgOmJbW",
      "include_colab_link": true
    },
    "kernelspec": {
      "name": "python3",
      "display_name": "Python 3"
    },
    "language_info": {
      "name": "python"
    }
  },
  "cells": [
    {
      "cell_type": "markdown",
      "metadata": {
        "id": "view-in-github",
        "colab_type": "text"
      },
      "source": [
        "<a href=\"https://colab.research.google.com/github/BautistaDavid/Monitorias_2021_2/blob/main/Monitoria_7.ipynb\" target=\"_parent\"><img src=\"https://colab.research.google.com/assets/colab-badge.svg\" alt=\"Open In Colab\"/></a>"
      ]
    },
    {
      "cell_type": "code",
      "metadata": {
        "id": "4j8k-NBEcFp0"
      },
      "source": [
        "## retomando puntos de parcial semestre pasado\n",
        "\n"
      ],
      "execution_count": 1,
      "outputs": []
    },
    {
      "cell_type": "markdown",
      "metadata": {
        "id": "GvPeEtCmfc4p"
      },
      "source": [
        " Se tiene el siguiente sistema de ecuaciones diferenciales no lienales:\n",
        "\n",
        " $$\\dot{k}=k-0.05k^2-c\\\\\n",
        " \\dot{c}=100(1-0.1k)c$$"
      ]
    },
    {
      "cell_type": "code",
      "metadata": {
        "id": "drlGaWAtcOeW"
      },
      "source": [
        "c,k=symbols(\"c,k\")"
      ],
      "execution_count": 4,
      "outputs": []
    },
    {
      "cell_type": "code",
      "metadata": {
        "id": "JHGfDAmBcRSo"
      },
      "source": [
        "ec1=k-0.05*k**2-c\n",
        "ec2=100*(1-0.1*k)*c"
      ],
      "execution_count": 15,
      "outputs": []
    },
    {
      "cell_type": "code",
      "metadata": {
        "colab": {
          "base_uri": "https://localhost:8080/"
        },
        "id": "8RjEtpahczVt",
        "outputId": "acc4906b-e253-4874-9448-43c5e00ddd37"
      },
      "source": [
        "puntos_e=solve([ec1,ec2])    \n",
        "puntos_e   # encontramos los puntos de equilibrio del sistema "
      ],
      "execution_count": 19,
      "outputs": [
        {
          "output_type": "execute_result",
          "data": {
            "text/plain": [
              "[{c: 0.0, k: 0.0},\n",
              " {c: 0.0, k: 20.0000000000000},\n",
              " {c: 5.00000000000000, k: 10.0000000000000}]"
            ]
          },
          "metadata": {},
          "execution_count": 19
        }
      ]
    },
    {
      "cell_type": "code",
      "metadata": {
        "id": "4C0vJPf8gHa2"
      },
      "source": [
        "def jac_22(f,g):                  # Funcion para hallar jacobiano\n",
        "    variables = f.free_symbols\n",
        "    jacobiano = []\n",
        "    for funcion in (f,g):\n",
        "        vector = []\n",
        "        for variable in variables:\n",
        "            vector.append(diff(funcion, variable))\n",
        "        jacobiano.append(vector)\n",
        "    \n",
        "    return Matrix(jacobiano)"
      ],
      "execution_count": 17,
      "outputs": []
    },
    {
      "cell_type": "code",
      "metadata": {
        "colab": {
          "base_uri": "https://localhost:8080/",
          "height": 57
        },
        "id": "qLFWvoprc0Kv",
        "outputId": "4b7cbc28-3a0f-41c2-c4b5-5f9c5eaee074"
      },
      "source": [
        "jac_22(ec1,ec2)    # teniendo el jacobiano solo nos faltaria encontrar los eigenvalues por cada puunto de equilibrio"
      ],
      "execution_count": 18,
      "outputs": [
        {
          "output_type": "execute_result",
          "data": {
            "text/latex": "$\\displaystyle \\left[\\begin{matrix}1 - 0.1 k & -1\\\\- 10.0 c & 100 - 10.0 k\\end{matrix}\\right]$",
            "text/plain": [
              "Matrix([\n",
              "[1 - 0.1*k,           -1],\n",
              "[  -10.0*c, 100 - 10.0*k]])"
            ]
          },
          "metadata": {},
          "execution_count": 18
        }
      ]
    },
    {
      "cell_type": "code",
      "metadata": {
        "colab": {
          "base_uri": "https://localhost:8080/"
        },
        "id": "a5mnioqseYyT",
        "outputId": "abd39927-f418-4f12-a077-8353d26422b6"
      },
      "source": [
        "for i in puntos_e:\n",
        "  "
      ],
      "execution_count": 21,
      "outputs": [
        {
          "output_type": "stream",
          "name": "stdout",
          "text": [
            "0.0\n",
            "0.0\n",
            "5.00000000000000\n"
          ]
        }
      ]
    },
    {
      "cell_type": "code",
      "metadata": {
        "id": "5bdOGErAgx5X"
      },
      "source": [
        ""
      ],
      "execution_count": null,
      "outputs": []
    },
    {
      "cell_type": "code",
      "metadata": {
        "id": "s0nhslHvj0Ui"
      },
      "source": [
        ""
      ],
      "execution_count": null,
      "outputs": []
    },
    {
      "cell_type": "code",
      "metadata": {
        "id": "8ctHpQMuj0Xd"
      },
      "source": [
        "from sympy import *\n",
        "k,c=symbols(\"k,c\")\n",
        "\n",
        "ec1=k-0.05*k**2-c\n",
        "ec2=100*(1-0.1*k)*c"
      ],
      "execution_count": 27,
      "outputs": []
    },
    {
      "cell_type": "code",
      "metadata": {
        "colab": {
          "base_uri": "https://localhost:8080/"
        },
        "id": "9OHc95DBj0Z3",
        "outputId": "69a16777-f2c8-49ee-ade8-a77adb158c7f"
      },
      "source": [
        "puntos=solve([ec1,ec2])\n",
        "puntos"
      ],
      "execution_count": 31,
      "outputs": [
        {
          "output_type": "execute_result",
          "data": {
            "text/plain": [
              "[{c: 0.0, k: 0.0},\n",
              " {c: 0.0, k: 20.0000000000000},\n",
              " {c: 5.00000000000000, k: 10.0000000000000}]"
            ]
          },
          "metadata": {},
          "execution_count": 31
        }
      ]
    },
    {
      "cell_type": "code",
      "metadata": {
        "colab": {
          "base_uri": "https://localhost:8080/",
          "height": 39
        },
        "id": "NsIYj0mZkPah",
        "outputId": "7ec7e70e-585b-4488-a9b4-4a30d6339459"
      },
      "source": [
        "ec1.diff(k)"
      ],
      "execution_count": 32,
      "outputs": [
        {
          "output_type": "execute_result",
          "data": {
            "text/latex": "$\\displaystyle 1 - 0.1 k$",
            "text/plain": [
              "1 - 0.1*k"
            ]
          },
          "metadata": {},
          "execution_count": 32
        }
      ]
    },
    {
      "cell_type": "code",
      "metadata": {
        "colab": {
          "base_uri": "https://localhost:8080/",
          "height": 37
        },
        "id": "Ljr8maoJlS_B",
        "outputId": "67076142-0ed3-4598-f24f-0fdb2750928d"
      },
      "source": [
        "ec1.diff(c)"
      ],
      "execution_count": 33,
      "outputs": [
        {
          "output_type": "execute_result",
          "data": {
            "text/latex": "$\\displaystyle -1$",
            "text/plain": [
              "-1"
            ]
          },
          "metadata": {},
          "execution_count": 33
        }
      ]
    },
    {
      "cell_type": "code",
      "metadata": {
        "colab": {
          "base_uri": "https://localhost:8080/",
          "height": 39
        },
        "id": "xKRylKOJlVa5",
        "outputId": "d4a793ff-9c7c-40f6-8068-7050be856615"
      },
      "source": [
        "ec2.diff(k)"
      ],
      "execution_count": 34,
      "outputs": [
        {
          "output_type": "execute_result",
          "data": {
            "text/latex": "$\\displaystyle - 10.0 c$",
            "text/plain": [
              "-10.0*c"
            ]
          },
          "metadata": {},
          "execution_count": 34
        }
      ]
    },
    {
      "cell_type": "code",
      "metadata": {
        "colab": {
          "base_uri": "https://localhost:8080/",
          "height": 39
        },
        "id": "VSjvLiMWlyJJ",
        "outputId": "d8618052-2756-4358-a0c6-22647da6816c"
      },
      "source": [
        "ec2.diff(c)"
      ],
      "execution_count": 35,
      "outputs": [
        {
          "output_type": "execute_result",
          "data": {
            "text/latex": "$\\displaystyle 100 - 10.0 k$",
            "text/plain": [
              "100 - 10.0*k"
            ]
          },
          "metadata": {},
          "execution_count": 35
        }
      ]
    },
    {
      "cell_type": "code",
      "metadata": {
        "id": "xoswRwK4l70s"
      },
      "source": [
        "def jac_22(f,g):                  # Funcion para hallar jacobiano\n",
        "    variables = f.free_symbols\n",
        "    jacobiano = []\n",
        "    for funcion in (f,g):\n",
        "        vector = []\n",
        "        for variable in variables:\n",
        "            vector.append(diff(funcion, variable))\n",
        "        jacobiano.append(vector)\n",
        "    \n",
        "    return Matrix(jacobiano)"
      ],
      "execution_count": 36,
      "outputs": []
    },
    {
      "cell_type": "code",
      "metadata": {
        "colab": {
          "base_uri": "https://localhost:8080/",
          "height": 57
        },
        "id": "KuJsgrewmau_",
        "outputId": "d734038b-c0c6-407f-e461-23a798fcfcc8"
      },
      "source": [
        "jacobiano=jac_22(ec1,ec2)\n",
        "jacobiano"
      ],
      "execution_count": 41,
      "outputs": [
        {
          "output_type": "execute_result",
          "data": {
            "text/latex": "$\\displaystyle \\left[\\begin{matrix}1 - 0.1 k & -1\\\\- 10.0 c & 100 - 10.0 k\\end{matrix}\\right]$",
            "text/plain": [
              "Matrix([\n",
              "[1 - 0.1*k,           -1],\n",
              "[  -10.0*c, 100 - 10.0*k]])"
            ]
          },
          "metadata": {},
          "execution_count": 41
        }
      ]
    },
    {
      "cell_type": "code",
      "metadata": {
        "id": "Ymab0KZ6meCn"
      },
      "source": [
        "sistema1=jacobiano.subs({k:0,c:0})"
      ],
      "execution_count": 43,
      "outputs": []
    },
    {
      "cell_type": "code",
      "metadata": {
        "colab": {
          "base_uri": "https://localhost:8080/"
        },
        "id": "bEO2xRR5mlVJ",
        "outputId": "dd43c7ec-83dd-4811-d271-7574aa8e2b20"
      },
      "source": [
        "sistema1.eigenvals()"
      ],
      "execution_count": 44,
      "outputs": [
        {
          "output_type": "execute_result",
          "data": {
            "text/plain": [
              "{1: 1, 100: 1}"
            ]
          },
          "metadata": {},
          "execution_count": 44
        }
      ]
    },
    {
      "cell_type": "code",
      "metadata": {
        "colab": {
          "base_uri": "https://localhost:8080/",
          "height": 57
        },
        "id": "RA8bDQicm4GB",
        "outputId": "d39e369d-e61a-4c7d-eeae-f6eada02d630"
      },
      "source": [
        "sistema2=jacobiano.subs({k:10,c:5})\n",
        "sistema2"
      ],
      "execution_count": 46,
      "outputs": [
        {
          "output_type": "execute_result",
          "data": {
            "text/latex": "$\\displaystyle \\left[\\begin{matrix}0 & -1\\\\-50.0 & 0\\end{matrix}\\right]$",
            "text/plain": [
              "Matrix([\n",
              "[    0, -1],\n",
              "[-50.0,  0]])"
            ]
          },
          "metadata": {},
          "execution_count": 46
        }
      ]
    },
    {
      "cell_type": "code",
      "metadata": {
        "colab": {
          "base_uri": "https://localhost:8080/"
        },
        "id": "COKyXYydnV1p",
        "outputId": "4ffbe596-410a-478b-afbd-4d4bd07c72f2"
      },
      "source": [
        "sistema2.eigenvals()"
      ],
      "execution_count": 47,
      "outputs": [
        {
          "output_type": "execute_result",
          "data": {
            "text/plain": [
              "{-7.07106781186548: 1, 7.07106781186548: 1}"
            ]
          },
          "metadata": {},
          "execution_count": 47
        }
      ]
    },
    {
      "cell_type": "code",
      "metadata": {
        "colab": {
          "base_uri": "https://localhost:8080/",
          "height": 57
        },
        "id": "XK_2XzHAnZR4",
        "outputId": "ac3391c7-8c97-4594-a859-c259e27c070f"
      },
      "source": [
        "sistema3=jacobiano.subs({k:20,c:0})\n",
        "sistema3"
      ],
      "execution_count": 49,
      "outputs": [
        {
          "output_type": "execute_result",
          "data": {
            "text/latex": "$\\displaystyle \\left[\\begin{matrix}-1.0 & -1\\\\0 & -100.0\\end{matrix}\\right]$",
            "text/plain": [
              "Matrix([\n",
              "[-1.0,     -1],\n",
              "[   0, -100.0]])"
            ]
          },
          "metadata": {},
          "execution_count": 49
        }
      ]
    },
    {
      "cell_type": "code",
      "metadata": {
        "colab": {
          "base_uri": "https://localhost:8080/"
        },
        "id": "24kX3RAmns6r",
        "outputId": "742b52ec-4f3d-4994-eca3-c72ac0bee72b"
      },
      "source": [
        "sistema3.eigenvals()"
      ],
      "execution_count": 50,
      "outputs": [
        {
          "output_type": "execute_result",
          "data": {
            "text/plain": [
              "{-100.000000000000: 1, -1.00000000000000: 1}"
            ]
          },
          "metadata": {},
          "execution_count": 50
        }
      ]
    },
    {
      "cell_type": "code",
      "metadata": {
        "id": "ZZ9sp9A-nxWt"
      },
      "source": [
        ""
      ],
      "execution_count": null,
      "outputs": []
    }
  ]
}