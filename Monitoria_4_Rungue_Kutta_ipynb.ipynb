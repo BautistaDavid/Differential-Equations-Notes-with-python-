{
  "nbformat": 4,
  "nbformat_minor": 0,
  "metadata": {
    "colab": {
      "name": "Monitoria_4_Rungue-Kutta.ipynb.ipynb",
      "provenance": [],
      "authorship_tag": "ABX9TyO038uIUPGquuIoj06Zr6VW",
      "include_colab_link": true
    },
    "kernelspec": {
      "name": "python3",
      "display_name": "Python 3"
    },
    "language_info": {
      "name": "python"
    }
  },
  "cells": [
    {
      "cell_type": "markdown",
      "metadata": {
        "id": "view-in-github",
        "colab_type": "text"
      },
      "source": [
        "<a href=\"https://colab.research.google.com/github/BautistaDavid/Monitorias_2021_2/blob/main/Monitoria_4_Rungue_Kutta_ipynb.ipynb\" target=\"_parent\"><img src=\"https://colab.research.google.com/assets/colab-badge.svg\" alt=\"Open In Colab\"/></a>"
      ]
    },
    {
      "cell_type": "markdown",
      "metadata": {
        "id": "SykFFTOnQOSr"
      },
      "source": [
        "# **Metodo De Euler**"
      ]
    },
    {
      "cell_type": "markdown",
      "metadata": {
        "id": "I2knAJjKAZvY"
      },
      "source": [
        "\n",
        "**Muy en resumen es** un metodo que permite resolver ecuaciones difrenciales de primer orden(EDO) a paritr de un problema de valor inicial dado.\n",
        "\n",
        "Informacion Requerida para abordar una ecuacion difrencial por este metodo:\n",
        "\n",
        "$$ P.V.I= \\left \\{ \\begin{matrix} \\frac{dy}{dx}=f(x,y) & \\mbox{EDO}\n",
        "\\\\ y(x_0)=y_0 & \\mbox{Valor Inicial}\\end{matrix}\\right. $$\n"
      ]
    },
    {
      "cell_type": "markdown",
      "metadata": {
        "id": "Xr1SjqX_RRcS"
      },
      "source": [
        "##**Ejercicio**"
      ]
    },
    {
      "cell_type": "markdown",
      "metadata": {
        "id": "_OQqSVkWJlAP"
      },
      "source": [
        "## ECUACIONES PARA TENER EN CUENTA METODO DE EULER\n",
        "\n",
        "$$x_{n+1}=x_n+h$$\n",
        "$$$$\n",
        "$$y_{m+1}=y_n+h*An$$\n",
        "\n",
        "$$An=f(x_n,y_n)$$ "
      ]
    },
    {
      "cell_type": "code",
      "metadata": {
        "id": "SFWErmx_kWH4"
      },
      "source": [
        "def A_n(x,y):\n",
        "  return 2*x*y\n",
        "  \n",
        "def M_Euler(x,y,h):\n",
        "  global resultados\n",
        "  lista_x=[]\n",
        "  lista_y=[]\n",
        "  lista_an=[]\n",
        "  for i in range(40):\n",
        "    #print(f\"x_{i}:{x}\\t y_{i}:{y}\") \n",
        "    lista_x.append(x)\n",
        "    lista_y.append(y)\n",
        "    y=y+h*A_n(x,y)\n",
        "    x=x+h\n",
        "\n",
        "  resultados=pd.DataFrame({\"x\":lista_x,\"y\":lista_y})\n",
        "  return resultados.head(10)\n"
      ],
      "execution_count": null,
      "outputs": []
    },
    {
      "cell_type": "code",
      "metadata": {
        "id": "kWUWOivCmGZs",
        "colab": {
          "base_uri": "https://localhost:8080/",
          "height": 362
        },
        "outputId": "893f0a63-53fe-4be9-c0a0-5debaab786cc"
      },
      "source": [
        "M_Euler(1,1,0.1)"
      ],
      "execution_count": null,
      "outputs": [
        {
          "output_type": "execute_result",
          "data": {
            "text/html": [
              "<div>\n",
              "<style scoped>\n",
              "    .dataframe tbody tr th:only-of-type {\n",
              "        vertical-align: middle;\n",
              "    }\n",
              "\n",
              "    .dataframe tbody tr th {\n",
              "        vertical-align: top;\n",
              "    }\n",
              "\n",
              "    .dataframe thead th {\n",
              "        text-align: right;\n",
              "    }\n",
              "</style>\n",
              "<table border=\"1\" class=\"dataframe\">\n",
              "  <thead>\n",
              "    <tr style=\"text-align: right;\">\n",
              "      <th></th>\n",
              "      <th>x</th>\n",
              "      <th>y</th>\n",
              "    </tr>\n",
              "  </thead>\n",
              "  <tbody>\n",
              "    <tr>\n",
              "      <th>0</th>\n",
              "      <td>1.0</td>\n",
              "      <td>1.000000</td>\n",
              "    </tr>\n",
              "    <tr>\n",
              "      <th>1</th>\n",
              "      <td>1.1</td>\n",
              "      <td>1.200000</td>\n",
              "    </tr>\n",
              "    <tr>\n",
              "      <th>2</th>\n",
              "      <td>1.2</td>\n",
              "      <td>1.464000</td>\n",
              "    </tr>\n",
              "    <tr>\n",
              "      <th>3</th>\n",
              "      <td>1.3</td>\n",
              "      <td>1.815360</td>\n",
              "    </tr>\n",
              "    <tr>\n",
              "      <th>4</th>\n",
              "      <td>1.4</td>\n",
              "      <td>2.287354</td>\n",
              "    </tr>\n",
              "    <tr>\n",
              "      <th>5</th>\n",
              "      <td>1.5</td>\n",
              "      <td>2.927813</td>\n",
              "    </tr>\n",
              "    <tr>\n",
              "      <th>6</th>\n",
              "      <td>1.6</td>\n",
              "      <td>3.806156</td>\n",
              "    </tr>\n",
              "    <tr>\n",
              "      <th>7</th>\n",
              "      <td>1.7</td>\n",
              "      <td>5.024126</td>\n",
              "    </tr>\n",
              "    <tr>\n",
              "      <th>8</th>\n",
              "      <td>1.8</td>\n",
              "      <td>6.732329</td>\n",
              "    </tr>\n",
              "    <tr>\n",
              "      <th>9</th>\n",
              "      <td>1.9</td>\n",
              "      <td>9.155968</td>\n",
              "    </tr>\n",
              "  </tbody>\n",
              "</table>\n",
              "</div>"
            ],
            "text/plain": [
              "     x         y\n",
              "0  1.0  1.000000\n",
              "1  1.1  1.200000\n",
              "2  1.2  1.464000\n",
              "3  1.3  1.815360\n",
              "4  1.4  2.287354\n",
              "5  1.5  2.927813\n",
              "6  1.6  3.806156\n",
              "7  1.7  5.024126\n",
              "8  1.8  6.732329\n",
              "9  1.9  9.155968"
            ]
          },
          "metadata": {},
          "execution_count": 53
        }
      ]
    },
    {
      "cell_type": "code",
      "metadata": {
        "id": "N50PWlvonIIX"
      },
      "source": [
        "X=np.linspace(0,1,5)\n",
        "Y=(X**3-3*X+8)**(1/3)"
      ],
      "execution_count": null,
      "outputs": []
    },
    {
      "cell_type": "code",
      "metadata": {
        "id": "aYQMLbyr6mqo"
      },
      "source": [
        ""
      ],
      "execution_count": null,
      "outputs": []
    },
    {
      "cell_type": "markdown",
      "metadata": {
        "id": "TJ8YBav76oDJ"
      },
      "source": [
        "# **Ejercicio**\n",
        "\n",
        "$$\\frac{dy}{dx}=2xy\\hspace{2 cm}y(1)=1\\hspace{2 cm}y(2)=??$$"
      ]
    },
    {
      "cell_type": "markdown",
      "metadata": {
        "id": "VhE1OsM5Iy1_"
      },
      "source": [
        "# **Runge-Kutta 2**"
      ]
    },
    {
      "cell_type": "markdown",
      "metadata": {
        "id": "RDSnvJCiSA4F"
      },
      "source": [
        "##**Problema**\n",
        "\n",
        "$$\\frac{dy}{dx}=f(x,y)\\hspace{2 cm} y(x_0)=y_0$$\n"
      ]
    },
    {
      "cell_type": "markdown",
      "metadata": {
        "id": "E0YQrd3tTOZQ"
      },
      "source": [
        "##**Formulas:**\n",
        "\n",
        "$$ x_{i+1}=x_1+h$$\n",
        "$$ $$\n",
        "$$y_{i+1}=y_i+(a_1k_1+a_2k_2)h$$\n",
        "$$ $$\n",
        "**Donde:**\n",
        "$$ k_1=f(x_i,y_i)$$\n",
        "$$ $$\n",
        "$$k_2=f(x_i+p_1h\\hspace{0.15 cm},\\hspace{0.15 cm}y_i+q_{11}k_1h)$$\n",
        "$$ $$\n",
        "**Tener en cuenta que...**\n",
        "$$ a_1=1-a_2$$\n",
        "$$ $$\n",
        "$$p_1=\\frac{1}{2a_2}$$\n",
        "$$ $$\n",
        "$$q_{11}=\\frac{1}{2a_2}$$\n",
        "$$ $$\n",
        "**¿y $a_2$?**\n",
        "\n",
        "1. Heun $\\rightarrow \\hspace{0.2 cm}a_2=\\frac{1}{2}$\n",
        "$$ $$\n",
        "2. Ralston $\\rightarrow \\hspace{0.2 cm}a_2=\\frac{2}{3}$\n",
        "$$ $$\n",
        "3. Punto Medio $\\rightarrow \\hspace{0.2 cm}a_2=1$\n"
      ]
    },
    {
      "cell_type": "code",
      "metadata": {
        "id": "ZZYC0B5nVVnU"
      },
      "source": [
        "import pandas as pd \n",
        "import matplotlib.pyplot as plt\n"
      ],
      "execution_count": null,
      "outputs": []
    },
    {
      "cell_type": "code",
      "metadata": {
        "id": "8Cerntmcan9f"
      },
      "source": [
        "def f(x,y):\n",
        "  return 2*x*y\n",
        "\n",
        "def Runge_Kutta_2(x,y,h,a_2):     #h=0.1\n",
        "  global lista_x,lista_y\n",
        "  lista_x=[]\n",
        "  lista_y=[]\n",
        "  lista_k_1=[]\n",
        "  lista_k_2=[]    #creamos lista para guardar informacion \n",
        "\n",
        "  a_1=1-a_2\n",
        "  p_1=1/(2*a_2)\n",
        "  q_11=1/(2*a_2)  #definimos parametros\n",
        "\n",
        "  for i in range(40):\n",
        "    lista_x.append(x)       #guardamos los datos (apenas inicia el bucle para poder guardar los datos iniciales )\n",
        "    lista_y.append(y)  \n",
        "                            # capturamos el valor de las variables\n",
        "\n",
        "    k_1=f(x,y)\n",
        "    k_2=f(x+p_1*h,y+q_11*k_1*h)\n",
        "\n",
        "    lista_k_1.append(k_1)\n",
        "    lista_k_2.append(k_2)\n",
        "\n",
        "    #print(f\"x:{x},y:{y}\")\n",
        "    y=y+(a_1*k_1+a_2*k_2)*h\n",
        "    x=x+h\n",
        "\n",
        "  resultados=pd.DataFrame({\"x\":lista_x,\"y\":lista_y,\"K_1\":lista_k_1,\"k_2\":lista_k_2})     #creamos una tabla para presentar mas organizado \n",
        "\n",
        "  \n",
        "  \n",
        "  return resultados.head(10)\n",
        "\n",
        "\n",
        "\n"
      ],
      "execution_count": null,
      "outputs": []
    },
    {
      "cell_type": "code",
      "metadata": {
        "colab": {
          "base_uri": "https://localhost:8080/",
          "height": 362
        },
        "id": "pm4KQnGOInk3",
        "outputId": "131987c7-9dd5-40cb-e3a8-184b9e9026d0"
      },
      "source": [
        "Runge_Kutta_2(1,1,0.1,0.5)"
      ],
      "execution_count": null,
      "outputs": [
        {
          "output_type": "execute_result",
          "data": {
            "text/html": [
              "<div>\n",
              "<style scoped>\n",
              "    .dataframe tbody tr th:only-of-type {\n",
              "        vertical-align: middle;\n",
              "    }\n",
              "\n",
              "    .dataframe tbody tr th {\n",
              "        vertical-align: top;\n",
              "    }\n",
              "\n",
              "    .dataframe thead th {\n",
              "        text-align: right;\n",
              "    }\n",
              "</style>\n",
              "<table border=\"1\" class=\"dataframe\">\n",
              "  <thead>\n",
              "    <tr style=\"text-align: right;\">\n",
              "      <th></th>\n",
              "      <th>x</th>\n",
              "      <th>y</th>\n",
              "      <th>K_1</th>\n",
              "      <th>k_2</th>\n",
              "    </tr>\n",
              "  </thead>\n",
              "  <tbody>\n",
              "    <tr>\n",
              "      <th>0</th>\n",
              "      <td>1.0</td>\n",
              "      <td>1.000000</td>\n",
              "      <td>2.000000</td>\n",
              "      <td>2.640000</td>\n",
              "    </tr>\n",
              "    <tr>\n",
              "      <th>1</th>\n",
              "      <td>1.1</td>\n",
              "      <td>1.232000</td>\n",
              "      <td>2.710400</td>\n",
              "      <td>3.607296</td>\n",
              "    </tr>\n",
              "    <tr>\n",
              "      <th>2</th>\n",
              "      <td>1.2</td>\n",
              "      <td>1.547885</td>\n",
              "      <td>3.714924</td>\n",
              "      <td>4.990381</td>\n",
              "    </tr>\n",
              "    <tr>\n",
              "      <th>3</th>\n",
              "      <td>1.3</td>\n",
              "      <td>1.983150</td>\n",
              "      <td>5.156190</td>\n",
              "      <td>6.996553</td>\n",
              "    </tr>\n",
              "    <tr>\n",
              "      <th>4</th>\n",
              "      <td>1.4</td>\n",
              "      <td>2.590787</td>\n",
              "      <td>7.254204</td>\n",
              "      <td>9.948623</td>\n",
              "    </tr>\n",
              "    <tr>\n",
              "      <th>5</th>\n",
              "      <td>1.5</td>\n",
              "      <td>3.450929</td>\n",
              "      <td>10.352786</td>\n",
              "      <td>14.355863</td>\n",
              "    </tr>\n",
              "    <tr>\n",
              "      <th>6</th>\n",
              "      <td>1.6</td>\n",
              "      <td>4.686361</td>\n",
              "      <td>14.996355</td>\n",
              "      <td>21.032388</td>\n",
              "    </tr>\n",
              "    <tr>\n",
              "      <th>7</th>\n",
              "      <td>1.7</td>\n",
              "      <td>6.487798</td>\n",
              "      <td>22.058513</td>\n",
              "      <td>31.297138</td>\n",
              "    </tr>\n",
              "    <tr>\n",
              "      <th>8</th>\n",
              "      <td>1.8</td>\n",
              "      <td>9.155581</td>\n",
              "      <td>32.960090</td>\n",
              "      <td>47.316041</td>\n",
              "    </tr>\n",
              "    <tr>\n",
              "      <th>9</th>\n",
              "      <td>1.9</td>\n",
              "      <td>13.169387</td>\n",
              "      <td>50.043671</td>\n",
              "      <td>72.695017</td>\n",
              "    </tr>\n",
              "  </tbody>\n",
              "</table>\n",
              "</div>"
            ],
            "text/plain": [
              "     x          y        K_1        k_2\n",
              "0  1.0   1.000000   2.000000   2.640000\n",
              "1  1.1   1.232000   2.710400   3.607296\n",
              "2  1.2   1.547885   3.714924   4.990381\n",
              "3  1.3   1.983150   5.156190   6.996553\n",
              "4  1.4   2.590787   7.254204   9.948623\n",
              "5  1.5   3.450929  10.352786  14.355863\n",
              "6  1.6   4.686361  14.996355  21.032388\n",
              "7  1.7   6.487798  22.058513  31.297138\n",
              "8  1.8   9.155581  32.960090  47.316041\n",
              "9  1.9  13.169387  50.043671  72.695017"
            ]
          },
          "metadata": {},
          "execution_count": 60
        }
      ]
    },
    {
      "cell_type": "code",
      "metadata": {
        "colab": {
          "base_uri": "https://localhost:8080/",
          "height": 293
        },
        "id": "LoBV51BLInto",
        "outputId": "e048cdcf-b511-4540-d96b-98b378a98732"
      },
      "source": [
        "import matplotlib.pyplot as plt\n",
        "import numpy as np\n",
        "\n",
        "X=np.linspace(0,5)\n",
        "Y=np.exp(X**2)/np.exp(1)\n",
        "plt.plot(lista_x,lista_y,label=\"Solucion Range_kutta\",color=\"red\",alpha=1,linestyle=\"--\")   #solucion por metodo \n",
        "plt.plot(X,Y,label=\"Solucion Analitica\",alpha=0.8) \n",
        "plt.plot(resultados[\"x\"],resultados[\"y\"],label=\"Metodo Euler\")  #solucion analitica\n",
        "plt.legend()\n",
        "                                                  "
      ],
      "execution_count": null,
      "outputs": [
        {
          "output_type": "execute_result",
          "data": {
            "text/plain": [
              "<matplotlib.legend.Legend at 0x7f76197f9e10>"
            ]
          },
          "metadata": {},
          "execution_count": 57
        },
        {
          "output_type": "display_data",
          "data": {
            "image/png": "[encoded data removed]",
            "text/plain": [
              "<Figure size 432x288 with 1 Axes>"
            ]
          },
          "metadata": {
            "needs_background": "light"
          }
        }
      ]
    },
    {
      "cell_type": "code",
      "metadata": {
        "colab": {
          "base_uri": "https://localhost:8080/"
        },
        "id": "kE-pd1l7InwT",
        "outputId": "4ab7b5dc-5b79-47af-f07f-8668ba99977a"
      },
      "source": [
        "resultados.columns"
      ],
      "execution_count": null,
      "outputs": [
        {
          "output_type": "execute_result",
          "data": {
            "text/plain": [
              "Index(['x', 'y'], dtype='object')"
            ]
          },
          "metadata": {},
          "execution_count": 41
        }
      ]
    },
    {
      "cell_type": "code",
      "metadata": {
        "id": "0MFasYnqInzI"
      },
      "source": [
        "from sympy import *"
      ],
      "execution_count": null,
      "outputs": []
    },
    {
      "cell_type": "code",
      "metadata": {
        "colab": {
          "base_uri": "https://localhost:8080/",
          "height": 57
        },
        "id": "aNuRcbD2In1X",
        "outputId": "e9122bad-4aa7-4ac2-c4f6-ff393414f91f"
      },
      "source": [
        "x=Symbol(\"x\")\n",
        "y=Function(\"y\")\n",
        "\n",
        "\n",
        "ics={y(1):1}\n",
        "dsolve(Eq(y(x).diff(x),2*x*y(x)),ics=ics)"
      ],
      "execution_count": null,
      "outputs": [
        {
          "output_type": "execute_result",
          "data": {
            "text/latex": "$\\displaystyle y{\\left(x \\right)} = \\frac{e^{x^{2}}}{e}$",
            "text/plain": [
              "Eq(y(x), exp(-1)*exp(x**2))"
            ]
          },
          "metadata": {},
          "execution_count": 17
        }
      ]
    },
    {
      "cell_type": "code",
      "metadata": {
        "colab": {
          "base_uri": "https://localhost:8080/"
        },
        "id": "votukVX2In3-",
        "outputId": "505398b8-e3bc-4323-996c-6a88a464b794"
      },
      "source": [
        "np.exp(1)"
      ],
      "execution_count": null,
      "outputs": [
        {
          "output_type": "execute_result",
          "data": {
            "text/plain": [
              "2.718281828459045"
            ]
          },
          "metadata": {},
          "execution_count": 20
        }
      ]
    },
    {
      "cell_type": "code",
      "metadata": {
        "id": "yWvaZ9oGIn6k"
      },
      "source": [
        ""
      ],
      "execution_count": null,
      "outputs": []
    },
    {
      "cell_type": "code",
      "metadata": {
        "id": "g95Q-WFlIn8s"
      },
      "source": [
        ""
      ],
      "execution_count": null,
      "outputs": []
    },
    {
      "cell_type": "code",
      "metadata": {
        "id": "4FqSOec2IoAk"
      },
      "source": [
        ""
      ],
      "execution_count": null,
      "outputs": []
    },
    {
      "cell_type": "code",
      "metadata": {
        "colab": {
          "base_uri": "https://localhost:8080/"
        },
        "id": "zuxMXFsHaoAm",
        "outputId": "3ae571aa-e5b3-463b-801e-52fe1067c730"
      },
      "source": [
        "lista_x"
      ],
      "execution_count": null,
      "outputs": [
        {
          "output_type": "execute_result",
          "data": {
            "text/plain": [
              "[1,\n",
              " 1.1,\n",
              " 1.2000000000000002,\n",
              " 1.3000000000000003,\n",
              " 1.4000000000000004,\n",
              " 1.5000000000000004,\n",
              " 1.6000000000000005,\n",
              " 1.7000000000000006,\n",
              " 1.8000000000000007,\n",
              " 1.9000000000000008]"
            ]
          },
          "metadata": {},
          "execution_count": 28
        }
      ]
    },
    {
      "cell_type": "code",
      "metadata": {
        "id": "imoti-TAXKcQ"
      },
      "source": [
        "def f(x):\n",
        "  x**2"
      ],
      "execution_count": null,
      "outputs": []
    },
    {
      "cell_type": "code",
      "metadata": {
        "id": "CPhW-WJSanFB"
      },
      "source": [
        ""
      ],
      "execution_count": null,
      "outputs": []
    },
    {
      "cell_type": "code",
      "metadata": {
        "colab": {
          "base_uri": "https://localhost:8080/",
          "height": 57
        },
        "id": "McKgKrdbanOE",
        "outputId": "c4d7b5eb-bf97-4507-c3a9-fb9da5c4064c"
      },
      "source": [
        "from sympy import * \n",
        "\n",
        "y=Function(\"y\")\n",
        "x=Symbol(\"x\")\n",
        "ics={y(1):1}\n",
        "dsolve(Eq(y(x).diff(x),2*x*y(x)),ics=ics)"
      ],
      "execution_count": null,
      "outputs": [
        {
          "output_type": "execute_result",
          "data": {
            "text/latex": "$\\displaystyle y{\\left(x \\right)} = \\frac{e^{x^{2}}}{e}$",
            "text/plain": [
              "Eq(y(x), exp(-1)*exp(x**2))"
            ]
          },
          "metadata": {},
          "execution_count": 37
        }
      ]
    }
  ]
}