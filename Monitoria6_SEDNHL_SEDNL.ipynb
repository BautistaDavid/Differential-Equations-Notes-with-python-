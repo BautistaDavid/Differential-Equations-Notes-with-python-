{
  "nbformat": 4,
  "nbformat_minor": 0,
  "metadata": {
    "colab": {
      "name": "Monitoria6_SEDNHL-SEDNL.ipynb",
      "provenance": [],
      "authorship_tag": "ABX9TyP5pcXnYrPIDUE6I/9q7QHh",
      "include_colab_link": true
    },
    "kernelspec": {
      "name": "python3",
      "display_name": "Python 3"
    },
    "language_info": {
      "name": "python"
    }
  },
  "cells": [
    {
      "cell_type": "markdown",
      "metadata": {
        "id": "view-in-github",
        "colab_type": "text"
      },
      "source": [
        "<a href=\"https://colab.research.google.com/github/BautistaDavid/Monitorias_2021_2/blob/main/Monitoria6_SEDNHL_SEDNL.ipynb\" target=\"_parent\"><img src=\"https://colab.research.google.com/assets/colab-badge.svg\" alt=\"Open In Colab\"/></a>"
      ]
    },
    {
      "cell_type": "markdown",
      "metadata": {
        "id": "euzBTUrgZw3q"
      },
      "source": [
        "**SEDLNH**"
      ]
    },
    {
      "cell_type": "code",
      "metadata": {
        "id": "yR6JH9wJZi4Z"
      },
      "source": [
        "from sympy import * # importamos Sympy \n",
        "#from sympy import Eq,exp,Symbol,Function,dsolve\n"
      ],
      "execution_count": 10,
      "outputs": []
    },
    {
      "cell_type": "code",
      "metadata": {
        "colab": {
          "base_uri": "https://localhost:8080/",
          "height": 38
        },
        "id": "_pmBAn8ibJV0",
        "outputId": "94aba141-860a-4f42-8bfd-46a8b29296b8"
      },
      "source": [
        "#definamos variables del moodelo\n",
        "\n",
        "t=Symbol(\"t\")\n",
        "x=Function(\"x\")\n",
        "y=Function(\"y\")\n"
      ],
      "execution_count": 6,
      "outputs": [
        {
          "output_type": "execute_result",
          "data": {
            "text/latex": "$\\displaystyle y{\\left(t \\right)}$",
            "text/plain": [
              "y(t)"
            ]
          },
          "metadata": {},
          "execution_count": 6
        }
      ]
    },
    {
      "cell_type": "code",
      "metadata": {
        "colab": {
          "base_uri": "https://localhost:8080/",
          "height": 52
        },
        "id": "T6pnEMwdbfJr",
        "outputId": "24b52cbd-f8f0-4255-83c4-6add05b2bb8e"
      },
      "source": [
        "expr1=Eq(x(t).diff(t),-2*x(t)+y(t)+2*exp(-t))\n",
        "expr1"
      ],
      "execution_count": 12,
      "outputs": [
        {
          "output_type": "execute_result",
          "data": {
            "text/latex": "$\\displaystyle \\frac{d}{d t} x{\\left(t \\right)} = - 2 x{\\left(t \\right)} + y{\\left(t \\right)} + 2 e^{- t}$",
            "text/plain": [
              "Eq(Derivative(x(t), t), -2*x(t) + y(t) + 2*exp(-t))"
            ]
          },
          "metadata": {},
          "execution_count": 12
        }
      ]
    },
    {
      "cell_type": "code",
      "metadata": {
        "colab": {
          "base_uri": "https://localhost:8080/",
          "height": 52
        },
        "id": "CjV5-1cQbwrt",
        "outputId": "f510a36b-f2e3-4e43-fdde-ad0e2521ebb7"
      },
      "source": [
        "expr2=Eq(y(t).diff(t),x(t)-2*y(t)+3*t)\n",
        "expr2\n"
      ],
      "execution_count": 13,
      "outputs": [
        {
          "output_type": "execute_result",
          "data": {
            "text/latex": "$\\displaystyle \\frac{d}{d t} y{\\left(t \\right)} = 3 t + x{\\left(t \\right)} - 2 y{\\left(t \\right)}$",
            "text/plain": [
              "Eq(Derivative(y(t), t), 3*t + x(t) - 2*y(t))"
            ]
          },
          "metadata": {},
          "execution_count": 13
        }
      ]
    },
    {
      "cell_type": "code",
      "metadata": {
        "colab": {
          "base_uri": "https://localhost:8080/"
        },
        "id": "ChA5F4xCctU-",
        "outputId": "a4b210fb-c019-4201-ff09-166550cc73c6"
      },
      "source": [
        "# Solucionamos el sistema usando funcion dsolve\n",
        "\n",
        "sistema=dsolve([expr1,expr2])\n",
        "sistema"
      ],
      "execution_count": 15,
      "outputs": [
        {
          "output_type": "execute_result",
          "data": {
            "text/plain": [
              "[Eq(x(t), -C2*exp(-3*t) + t + t*exp(-t) + (C1 + 1/2)*exp(-t) - 4/3),\n",
              " Eq(y(t), C2*exp(-3*t) + 2*t + t*exp(-t) + (C1 - 1/2)*exp(-t) - 5/3)]"
            ]
          },
          "metadata": {},
          "execution_count": 15
        }
      ]
    },
    {
      "cell_type": "code",
      "metadata": {
        "colab": {
          "base_uri": "https://localhost:8080/",
          "height": 57
        },
        "id": "RlcvzoNLdFYo",
        "outputId": "8170c559-3ef9-4d14-fbe3-650399fee646"
      },
      "source": [
        "#accedemos a la primera parte de la solucion \n",
        "\n",
        "sistema[0]"
      ],
      "execution_count": 16,
      "outputs": [
        {
          "output_type": "execute_result",
          "data": {
            "text/latex": "$\\displaystyle x{\\left(t \\right)} = - C_{2} e^{- 3 t} + t + t e^{- t} + \\left(C_{1} + \\frac{1}{2}\\right) e^{- t} - \\frac{4}{3}$",
            "text/plain": [
              "Eq(x(t), -C2*exp(-3*t) + t + t*exp(-t) + (C1 + 1/2)*exp(-t) - 4/3)"
            ]
          },
          "metadata": {},
          "execution_count": 16
        }
      ]
    },
    {
      "cell_type": "code",
      "metadata": {
        "colab": {
          "base_uri": "https://localhost:8080/",
          "height": 57
        },
        "id": "oxld7MWLdLfE",
        "outputId": "e9552971-f690-48d7-fd50-00a27d1b7261"
      },
      "source": [
        "#accedemos a la segunda parte de la solucion \n",
        "sistema[1]"
      ],
      "execution_count": 17,
      "outputs": [
        {
          "output_type": "execute_result",
          "data": {
            "text/latex": "$\\displaystyle y{\\left(t \\right)} = C_{2} e^{- 3 t} + 2 t + t e^{- t} + \\left(C_{1} - \\frac{1}{2}\\right) e^{- t} - \\frac{5}{3}$",
            "text/plain": [
              "Eq(y(t), C2*exp(-3*t) + 2*t + t*exp(-t) + (C1 - 1/2)*exp(-t) - 5/3)"
            ]
          },
          "metadata": {},
          "execution_count": 17
        }
      ]
    },
    {
      "cell_type": "code",
      "metadata": {
        "id": "K5mIc-aed9l1"
      },
      "source": [
        ""
      ],
      "execution_count": null,
      "outputs": []
    },
    {
      "cell_type": "code",
      "metadata": {
        "colab": {
          "base_uri": "https://localhost:8080/",
          "height": 38
        },
        "id": "y2cfQQlsd9wJ",
        "outputId": "1ed82901-79d6-4246-b54a-2b940ba7b0b9"
      },
      "source": [
        "expr1=Eq(x(t).diff(t),-2*x(t)+y(t))\n",
        "expr2=Eq(y(t).diff(t),x(t)-2*y(t))\n",
        "\n",
        "sistema2=dsolve([expr1,expr2])\n",
        "sistema2[0]"
      ],
      "execution_count": 19,
      "outputs": [
        {
          "output_type": "execute_result",
          "data": {
            "text/latex": "$\\displaystyle x{\\left(t \\right)} = - C_{1} e^{- 3 t} + C_{2} e^{- t}$",
            "text/plain": [
              "Eq(x(t), -C1*exp(-3*t) + C2*exp(-t))"
            ]
          },
          "metadata": {},
          "execution_count": 19
        }
      ]
    },
    {
      "cell_type": "code",
      "metadata": {
        "colab": {
          "base_uri": "https://localhost:8080/",
          "height": 38
        },
        "id": "TRaYIR4meNDk",
        "outputId": "996d7379-13f3-4912-ace5-40d212feb83e"
      },
      "source": [
        "sistema2[1]"
      ],
      "execution_count": 21,
      "outputs": [
        {
          "output_type": "execute_result",
          "data": {
            "text/latex": "$\\displaystyle y{\\left(t \\right)} = C_{1} e^{- 3 t} + C_{2} e^{- t}$",
            "text/plain": [
              "Eq(y(t), C1*exp(-3*t) + C2*exp(-t))"
            ]
          },
          "metadata": {},
          "execution_count": 21
        }
      ]
    },
    {
      "cell_type": "code",
      "metadata": {
        "id": "6E65hRQsgxmv"
      },
      "source": [
        ""
      ],
      "execution_count": null,
      "outputs": []
    },
    {
      "cell_type": "code",
      "metadata": {
        "id": "NCGdX6YUgxuZ"
      },
      "source": [
        ""
      ],
      "execution_count": null,
      "outputs": []
    },
    {
      "cell_type": "code",
      "metadata": {
        "id": "8da91crrgxx4"
      },
      "source": [
        ""
      ],
      "execution_count": null,
      "outputs": []
    },
    {
      "cell_type": "markdown",
      "metadata": {
        "id": "2ArkJfO0gy7L"
      },
      "source": [
        "# SED no lieneales\n",
        "\n",
        "$$\\dot{X}=x(3-x-2y)\\\\\n",
        "\\dot{Y}=y(2-x-y)\\\\\n",
        "\\\\\n",
        "$$\n",
        "1. \n",
        "$$\\dot{X}=0\\\\\n",
        "\\dot{Y}=0$$\n",
        "\n",
        "2. Nulclinas \n",
        "3. Puntos de Equilibrio "
      ]
    },
    {
      "cell_type": "code",
      "metadata": {
        "colab": {
          "base_uri": "https://localhost:8080/"
        },
        "id": "DEe_ibcUg2c4",
        "outputId": "be3b69df-a336-4a0a-891d-988eefc90da9"
      },
      "source": [
        "x,y=symbols(\"x,y\")\n",
        "expr1=Eq(x*(3-x-2*y),0)\n",
        "expr2=Eq(y*(2-x-y),0)\n",
        "\n",
        "# nulclinas \n",
        "solve(expr1)[1]\n",
        "\n"
      ],
      "execution_count": 32,
      "outputs": [
        {
          "output_type": "execute_result",
          "data": {
            "text/plain": [
              "{y: 3/2 - x/2}"
            ]
          },
          "metadata": {},
          "execution_count": 32
        }
      ]
    },
    {
      "cell_type": "code",
      "metadata": {
        "colab": {
          "base_uri": "https://localhost:8080/"
        },
        "id": "unrwvr9kjYw1",
        "outputId": "5340241c-5c3a-4c9d-98c4-74b7d2f2e73d"
      },
      "source": [
        "# nulclina\n",
        "\n",
        "#solve(expr2,y)[1]\n",
        "solve(expr2)[0]"
      ],
      "execution_count": 43,
      "outputs": [
        {
          "output_type": "execute_result",
          "data": {
            "text/plain": [
              "{x: 2 - y}"
            ]
          },
          "metadata": {},
          "execution_count": 43
        }
      ]
    },
    {
      "cell_type": "code",
      "metadata": {
        "colab": {
          "base_uri": "https://localhost:8080/"
        },
        "id": "tHqo8NRRjBZI",
        "outputId": "2e3b5d6e-1476-4fda-f607-6c2ac5aecf90"
      },
      "source": [
        "# Puntos de Equilibrio del sistema\n",
        "solve([expr1,expr2])"
      ],
      "execution_count": 30,
      "outputs": [
        {
          "output_type": "execute_result",
          "data": {
            "text/plain": [
              "[{x: 0, y: 0}, {x: 0, y: 2}, {x: 1, y: 1}, {x: 3, y: 0}]"
            ]
          },
          "metadata": {},
          "execution_count": 30
        }
      ]
    },
    {
      "cell_type": "code",
      "metadata": {
        "colab": {
          "base_uri": "https://localhost:8080/",
          "height": 283
        },
        "id": "6i-_Q0Y7kJK5",
        "outputId": "5801e3d4-9350-4165-ace0-ac9449068419"
      },
      "source": [
        "# Graficamos Puntos de Equilibrio \n",
        "\n",
        "import matplotlib.pyplot as plt \n",
        "import numpy as np\n",
        "X=np.linspace(0,100)\n",
        "plt.plot(X,3/2-X/2,label=\"nulclina1\",linestyle=\"--\")\n",
        "plt.plot(X,2-X,label=\"nulclina2\",linestyle=\"--\")\n",
        "plt.ylim(0,2.2)\n",
        "plt.xlim(0,3.1)\n",
        "plt.scatter(x=[0,0,1,3],y=[0,2,1,0],color=\"red\",marker=\"o\")\n",
        "plt.legend()\n"
      ],
      "execution_count": 79,
      "outputs": [
        {
          "output_type": "execute_result",
          "data": {
            "text/plain": [
              "<matplotlib.legend.Legend at 0x7fa4f24c9a90>"
            ]
          },
          "metadata": {},
          "execution_count": 79
        },
        {
          "output_type": "display_data",
          "data": {
            "image/png": "[encoded data removed]",
            "text/plain": [
              "<Figure size 432x288 with 1 Axes>"
            ]
          },
          "metadata": {
            "needs_background": "light"
          }
        }
      ]
    },
    {
      "cell_type": "code",
      "metadata": {
        "id": "FAYBLevlluCd"
      },
      "source": [
        "#Jacobianos \n",
        "\n",
        "def jac_22(f,g):\n",
        "    variables = f.free_symbols\n",
        "    jacobiano = []\n",
        "    for funcion in (f,g):\n",
        "        vector = []\n",
        "        for variable in variables:\n",
        "            vector.append(diff(funcion, variable))\n",
        "        jacobiano.append(vector)\n",
        "    \n",
        "    return Matrix(jacobiano)\n"
      ],
      "execution_count": 63,
      "outputs": []
    },
    {
      "cell_type": "code",
      "metadata": {
        "id": "5D2dBPLGmH-A"
      },
      "source": [
        "jacobiano=jac_22(x*(3-x-2*y),y*(2-x-y))"
      ],
      "execution_count": 66,
      "outputs": []
    },
    {
      "cell_type": "code",
      "metadata": {
        "colab": {
          "base_uri": "https://localhost:8080/",
          "height": 57
        },
        "id": "z7hh2FMXm9g4",
        "outputId": "b3d8fb97-e285-4f06-a1e0-ad6556b1a6f4"
      },
      "source": [
        "jacobiano"
      ],
      "execution_count": 67,
      "outputs": [
        {
          "output_type": "execute_result",
          "data": {
            "text/latex": "$\\displaystyle \\left[\\begin{matrix}- 2 x - 2 y + 3 & - 2 x\\\\- y & - x - 2 y + 2\\end{matrix}\\right]$",
            "text/plain": [
              "Matrix([\n",
              "[-2*x - 2*y + 3,         -2*x],\n",
              "[            -y, -x - 2*y + 2]])"
            ]
          },
          "metadata": {},
          "execution_count": 67
        }
      ]
    },
    {
      "cell_type": "code",
      "metadata": {
        "colab": {
          "base_uri": "https://localhost:8080/"
        },
        "id": "lzGPrmJqm-uI",
        "outputId": "b01af271-40b8-4966-a59b-fd400f1c9d3c"
      },
      "source": [
        "#valores de lambda para cada punto de Equilibrio \n",
        "\n",
        "for i in [{x: 0, y: 0}, {x: 0, y: 2}, {x: 1, y: 1}, {x: 3, y: 0}]:\n",
        "  a=(jacobiano.subs(i)).eigenvals()\n",
        "  print(f\"lambdas punto de Equilibrio {i}={list(a.keys())}\")"
      ],
      "execution_count": 75,
      "outputs": [
        {
          "output_type": "stream",
          "name": "stdout",
          "text": [
            "lambdas punto de Equilibrio {x: 0, y: 0}=[3, 2]\n",
            "lambdas punto de Equilibrio {x: 0, y: 2}=[-1, -2]\n",
            "lambdas punto de Equilibrio {x: 1, y: 1}=[-sqrt(2) - 1, -1 + sqrt(2)]\n",
            "lambdas punto de Equilibrio {x: 3, y: 0}=[-3, -1]\n"
          ]
        }
      ]
    },
    {
      "cell_type": "code",
      "metadata": {
        "id": "4Ph2uWMCqSss"
      },
      "source": [
        ""
      ],
      "execution_count": null,
      "outputs": []
    },
    {
      "cell_type": "code",
      "metadata": {
        "id": "-YhY1Kj7qS35"
      },
      "source": [
        "\n"
      ],
      "execution_count": null,
      "outputs": []
    }
  ]
}