{
  "nbformat": 4,
  "nbformat_minor": 0,
  "metadata": {
    "colab": {
      "name": "monitoria8_calculo_variaciones.ipynb",
      "provenance": [],
      "collapsed_sections": [],
      "authorship_tag": "ABX9TyM881HIj83Be8KfHnvN283/",
      "include_colab_link": true
    },
    "kernelspec": {
      "name": "python3",
      "display_name": "Python 3"
    },
    "language_info": {
      "name": "python"
    }
  },
  "cells": [
    {
      "cell_type": "markdown",
      "metadata": {
        "id": "view-in-github",
        "colab_type": "text"
      },
      "source": [
        "<a href=\"https://colab.research.google.com/github/BautistaDavid/Monitorias_2021_2/blob/main/monitoria8_calculo_variaciones.ipynb\" target=\"_parent\"><img src=\"https://colab.research.google.com/assets/colab-badge.svg\" alt=\"Open In Colab\"/></a>"
      ]
    },
    {
      "cell_type": "markdown",
      "metadata": {
        "id": "eXfSkkGK1r2w"
      },
      "source": [
        "### **Aproximacíon al calculo de variaciones con sympy** \n",
        "\n",
        "Ecuacion Euler: \n",
        "\n",
        "$$\\frac{df}{dx}-\\frac{d}{dt}(\\frac{df}{d\\dot{x}})=0$$"
      ]
    },
    {
      "cell_type": "markdown",
      "metadata": {
        "id": "adLjsihZ2uGt"
      },
      "source": [
        "##### Ejercicio: \n",
        "\n",
        "$$\\int_{0}^{1}(x^2+2tx\\dot{x}+\\dot{x}^2)dt\\\\\n",
        "s.a\\hspace{0.5cm}x(0)=1\\hspace{0.5cm}x(1)=2$$\n"
      ]
    },
    {
      "cell_type": "markdown",
      "metadata": {
        "id": "ytUISC2zvA1m"
      },
      "source": [
        "$$\\int_{0}^{2}(t^2+\\dot{x}^2+x^2)dt\\\\\n",
        "s.a\\hspace{0.5cm}x(0)=1\\hspace{0.5cm}x(2)=Libre$$"
      ]
    },
    {
      "cell_type": "code",
      "metadata": {
        "id": "WOZhj_Q4aKmv"
      },
      "source": [
        "#Variables - Funciones \n",
        "from sympy import *\n",
        "x=Function(\"x\")\n",
        "t=Symbol(\"t\")"
      ],
      "execution_count": 29,
      "outputs": []
    },
    {
      "cell_type": "code",
      "metadata": {
        "colab": {
          "base_uri": "https://localhost:8080/",
          "height": 61
        },
        "id": "Tmwz3atPha0P",
        "outputId": "995447c7-62f0-46cf-ea86-65d991397b01"
      },
      "source": [
        "f=x(t)**2+2*t*x(t)*x(t).diff(t)+x(t).diff(t)**2\n",
        "f"
      ],
      "execution_count": 31,
      "outputs": [
        {
          "output_type": "execute_result",
          "data": {
            "text/latex": "$\\displaystyle 2 t x{\\left(t \\right)} \\frac{d}{d t} x{\\left(t \\right)} + x^{2}{\\left(t \\right)} + \\left(\\frac{d}{d t} x{\\left(t \\right)}\\right)^{2}$",
            "text/plain": [
              "2*t*x(t)*Derivative(x(t), t) + x(t)**2 + Derivative(x(t), t)**2"
            ]
          },
          "metadata": {},
          "execution_count": 31
        }
      ]
    },
    {
      "cell_type": "code",
      "metadata": {
        "colab": {
          "base_uri": "https://localhost:8080/",
          "height": 52
        },
        "id": "x9MG7f8Bhm8f",
        "outputId": "6126a9a8-04a7-4646-9e8f-0d1d6c87376b"
      },
      "source": [
        "## hallar la derivada con respecto a x(t)\n",
        "\n",
        "f.diff(x(t).diff(t))"
      ],
      "execution_count": 40,
      "outputs": [
        {
          "output_type": "execute_result",
          "data": {
            "text/latex": "$\\displaystyle 2 t x{\\left(t \\right)} + 2 \\frac{d}{d t} x{\\left(t \\right)}$",
            "text/plain": [
              "2*t*x(t) + 2*Derivative(x(t), t)"
            ]
          },
          "metadata": {},
          "execution_count": 40
        }
      ]
    },
    {
      "cell_type": "code",
      "metadata": {
        "id": "7SvT8wehhm_p"
      },
      "source": [
        ""
      ],
      "execution_count": 35,
      "outputs": []
    },
    {
      "cell_type": "code",
      "metadata": {
        "colab": {
          "base_uri": "https://localhost:8080/",
          "height": 54
        },
        "id": "6QG-n7d5hnCP",
        "outputId": "fa4cde81-ed2b-4a87-e5a7-52ff7402cbfa"
      },
      "source": [
        "ec_euler=Eq(f.diff(x(t))-(f.diff(x(t).diff(t))).diff(t),0)\n",
        "ec_euler"
      ],
      "execution_count": 43,
      "outputs": [
        {
          "output_type": "execute_result",
          "data": {
            "text/latex": "$\\displaystyle - 2 \\frac{d^{2}}{d t^{2}} x{\\left(t \\right)} = 0$",
            "text/plain": [
              "Eq(-2*Derivative(x(t), (t, 2)), 0)"
            ]
          },
          "metadata": {},
          "execution_count": 43
        }
      ]
    },
    {
      "cell_type": "code",
      "metadata": {
        "colab": {
          "base_uri": "https://localhost:8080/",
          "height": 39
        },
        "id": "HrVJaqdTjbqY",
        "outputId": "b5e0a7a3-4a35-48a0-a508-f026343f5038"
      },
      "source": [
        "ics={x(0):1,\n",
        "     x(1):2}\n",
        "\n",
        "dsolve(ec_euler,ics=ics)"
      ],
      "execution_count": 45,
      "outputs": [
        {
          "output_type": "execute_result",
          "data": {
            "text/latex": "$\\displaystyle x{\\left(t \\right)} = t + 1$",
            "text/plain": [
              "Eq(x(t), t + 1)"
            ]
          },
          "metadata": {},
          "execution_count": 45
        }
      ]
    },
    {
      "cell_type": "code",
      "metadata": {
        "colab": {
          "base_uri": "https://localhost:8080/",
          "height": 39
        },
        "id": "qmMTI7Fujbs6",
        "outputId": "d388cf2e-cc0f-48a9-e74f-f52d2ea701f7"
      },
      "source": [
        "dsolve(ec_euler)"
      ],
      "execution_count": 47,
      "outputs": [
        {
          "output_type": "execute_result",
          "data": {
            "text/latex": "$\\displaystyle x{\\left(t \\right)} = C_{1} + C_{2} t$",
            "text/plain": [
              "Eq(x(t), C1 + C2*t)"
            ]
          },
          "metadata": {},
          "execution_count": 47
        }
      ]
    },
    {
      "cell_type": "code",
      "metadata": {
        "colab": {
          "base_uri": "https://localhost:8080/",
          "height": 52
        },
        "id": "ZZ95sAkRjbvx",
        "outputId": "f5fe6e3f-f722-4948-f1cf-187172a4e0b9"
      },
      "source": [
        "f=t**2+x(t).diff(t)**2+x(t)**2\n",
        "f.diff(x(t).diff(t))"
      ],
      "execution_count": 51,
      "outputs": [
        {
          "output_type": "execute_result",
          "data": {
            "text/latex": "$\\displaystyle 2 \\frac{d}{d t} x{\\left(t \\right)}$",
            "text/plain": [
              "2*Derivative(x(t), t)"
            ]
          },
          "metadata": {},
          "execution_count": 51
        }
      ]
    },
    {
      "cell_type": "code",
      "metadata": {
        "colab": {
          "base_uri": "https://localhost:8080/",
          "height": 54
        },
        "id": "r3e67u-5vRoj",
        "outputId": "92ca8639-b61c-44cd-91f2-bf1164fe92cc"
      },
      "source": [
        "ec_euler=Eq(f.diff(x(t))-(f.diff(x(t).diff(t))).diff(t),0)\n",
        "ec_euler"
      ],
      "execution_count": 49,
      "outputs": [
        {
          "output_type": "execute_result",
          "data": {
            "text/latex": "$\\displaystyle 2 x{\\left(t \\right)} - 2 \\frac{d^{2}}{d t^{2}} x{\\left(t \\right)} = 0$",
            "text/plain": [
              "Eq(2*x(t) - 2*Derivative(x(t), (t, 2)), 0)"
            ]
          },
          "metadata": {},
          "execution_count": 49
        }
      ]
    },
    {
      "cell_type": "code",
      "metadata": {
        "colab": {
          "base_uri": "https://localhost:8080/",
          "height": 39
        },
        "id": "uhnntkDLvRrh",
        "outputId": "baa25ca4-5a99-4942-9c7e-c3844f7ec2e9"
      },
      "source": [
        "dsolve(ec_euler)"
      ],
      "execution_count": 50,
      "outputs": [
        {
          "output_type": "execute_result",
          "data": {
            "text/latex": "$\\displaystyle x{\\left(t \\right)} = C_{1} e^{- t} + C_{2} e^{t}$",
            "text/plain": [
              "Eq(x(t), C1*exp(-t) + C2*exp(t))"
            ]
          },
          "metadata": {},
          "execution_count": 50
        }
      ]
    },
    {
      "cell_type": "code",
      "metadata": {
        "id": "1FUuGNohvRvX"
      },
      "source": [
        ""
      ],
      "execution_count": null,
      "outputs": []
    },
    {
      "cell_type": "code",
      "metadata": {
        "id": "2FnMpARavRw8"
      },
      "source": [
        ""
      ],
      "execution_count": null,
      "outputs": []
    },
    {
      "cell_type": "code",
      "metadata": {
        "id": "PWVoYGdWvRzl"
      },
      "source": [
        ""
      ],
      "execution_count": null,
      "outputs": []
    },
    {
      "cell_type": "code",
      "metadata": {
        "id": "bRYA27lom-VI"
      },
      "source": [
        "from sympy import *"
      ],
      "execution_count": null,
      "outputs": []
    },
    {
      "cell_type": "code",
      "metadata": {
        "id": "NE7VdRJkm_mZ"
      },
      "source": [
        "from sympy import *\n",
        "x=Function(\"x\")\n",
        "t=Symbol(\"t\")\n",
        "def c_variaciones(f,ics):   #caso simple \n",
        "  ec=f.diff(x(t))-(f.diff(x(t).diff(t))).diff(t)\n",
        "  rta=dsolve(Eq(ec,0),ics=ics)\n",
        "  return rta"
      ],
      "execution_count": null,
      "outputs": []
    },
    {
      "cell_type": "code",
      "metadata": {
        "colab": {
          "base_uri": "https://localhost:8080/",
          "height": 61
        },
        "id": "fMNwpcrsoF4s",
        "outputId": "0d3c4df7-c1ab-48f7-b221-457f6a41444f"
      },
      "source": [
        "expr=t**2+x(t).diff(t)**2+x(t)**2\n",
        "expr"
      ],
      "execution_count": null,
      "outputs": [
        {
          "output_type": "execute_result",
          "data": {
            "text/latex": "$\\displaystyle t^{2} + x^{2}{\\left(t \\right)} + \\left(\\frac{d}{d t} x{\\left(t \\right)}\\right)^{2}$",
            "text/plain": [
              "t**2 + x(t)**2 + Derivative(x(t), t)**2"
            ]
          },
          "metadata": {},
          "execution_count": 20
        }
      ]
    },
    {
      "cell_type": "code",
      "metadata": {
        "id": "LX4_Du8mRw49"
      },
      "source": [
        "rta=c_variaciones(expr,ics={x(0):1})"
      ],
      "execution_count": null,
      "outputs": []
    },
    {
      "cell_type": "code",
      "metadata": {
        "colab": {
          "base_uri": "https://localhost:8080/",
          "height": 39
        },
        "id": "l-FELJsTzL40",
        "outputId": "2e53f377-6df2-4503-d014-d045761e8b81"
      },
      "source": [
        "rta"
      ],
      "execution_count": null,
      "outputs": [
        {
          "output_type": "execute_result",
          "data": {
            "text/latex": "$\\displaystyle x{\\left(t \\right)} = C_{2} e^{t} + \\left(1 - C_{2}\\right) e^{- t}$",
            "text/plain": [
              "Eq(x(t), C2*exp(t) + (1 - C2)*exp(-t))"
            ]
          },
          "metadata": {},
          "execution_count": 57
        }
      ]
    },
    {
      "cell_type": "code",
      "metadata": {
        "colab": {
          "base_uri": "https://localhost:8080/",
          "height": 322
        },
        "id": "5AuUV2NsT4eB",
        "outputId": "7a969d80-31ea-4c7e-e9ea-34ada03acd3f"
      },
      "source": [
        ""
      ],
      "execution_count": null,
      "outputs": [
        {
          "output_type": "error",
          "ename": "NotImplementedError",
          "evalue": "ignored",
          "traceback": [
            "\u001b[0;31m---------------------------------------------------------------------------\u001b[0m",
            "\u001b[0;31mNotImplementedError\u001b[0m                       Traceback (most recent call last)",
            "\u001b[0;32m<ipython-input-55-f914904403fa>\u001b[0m in \u001b[0;36m<module>\u001b[0;34m()\u001b[0m\n\u001b[0;32m----> 1\u001b[0;31m \u001b[0mdsolve\u001b[0m\u001b[0;34m(\u001b[0m\u001b[0mec1\u001b[0m\u001b[0;34m)\u001b[0m\u001b[0;34m\u001b[0m\u001b[0;34m\u001b[0m\u001b[0m\n\u001b[0m",
            "\u001b[0;32m/usr/local/lib/python3.7/dist-packages/sympy/solvers/ode/ode.py\u001b[0m in \u001b[0;36mdsolve\u001b[0;34m(eq, func, hint, simplify, ics, xi, eta, x0, n, **kwargs)\u001b[0m\n\u001b[1;32m    662\u001b[0m             \u001b[0;31m# The key 'hint' stores the hint needed to be solved for.\u001b[0m\u001b[0;34m\u001b[0m\u001b[0;34m\u001b[0m\u001b[0;34m\u001b[0m\u001b[0m\n\u001b[1;32m    663\u001b[0m             \u001b[0mhint\u001b[0m \u001b[0;34m=\u001b[0m \u001b[0mhints\u001b[0m\u001b[0;34m[\u001b[0m\u001b[0;34m'hint'\u001b[0m\u001b[0;34m]\u001b[0m\u001b[0;34m\u001b[0m\u001b[0;34m\u001b[0m\u001b[0m\n\u001b[0;32m--> 664\u001b[0;31m             \u001b[0;32mreturn\u001b[0m \u001b[0m_helper_simplify\u001b[0m\u001b[0;34m(\u001b[0m\u001b[0meq\u001b[0m\u001b[0;34m,\u001b[0m \u001b[0mhint\u001b[0m\u001b[0;34m,\u001b[0m \u001b[0mhints\u001b[0m\u001b[0;34m,\u001b[0m \u001b[0msimplify\u001b[0m\u001b[0;34m,\u001b[0m \u001b[0mics\u001b[0m\u001b[0;34m=\u001b[0m\u001b[0mics\u001b[0m\u001b[0;34m)\u001b[0m\u001b[0;34m\u001b[0m\u001b[0;34m\u001b[0m\u001b[0m\n\u001b[0m\u001b[1;32m    665\u001b[0m \u001b[0;34m\u001b[0m\u001b[0m\n\u001b[1;32m    666\u001b[0m \u001b[0;32mdef\u001b[0m \u001b[0m_helper_simplify\u001b[0m\u001b[0;34m(\u001b[0m\u001b[0meq\u001b[0m\u001b[0;34m,\u001b[0m \u001b[0mhint\u001b[0m\u001b[0;34m,\u001b[0m \u001b[0mmatch\u001b[0m\u001b[0;34m,\u001b[0m \u001b[0msimplify\u001b[0m\u001b[0;34m=\u001b[0m\u001b[0;32mTrue\u001b[0m\u001b[0;34m,\u001b[0m \u001b[0mics\u001b[0m\u001b[0;34m=\u001b[0m\u001b[0;32mNone\u001b[0m\u001b[0;34m,\u001b[0m \u001b[0;34m**\u001b[0m\u001b[0mkwargs\u001b[0m\u001b[0;34m)\u001b[0m\u001b[0;34m:\u001b[0m\u001b[0;34m\u001b[0m\u001b[0;34m\u001b[0m\u001b[0m\n",
            "\u001b[0;32m/usr/local/lib/python3.7/dist-packages/sympy/solvers/ode/ode.py\u001b[0m in \u001b[0;36m_helper_simplify\u001b[0;34m(eq, hint, match, simplify, ics, **kwargs)\u001b[0m\n\u001b[1;32m    693\u001b[0m             \u001b[0msols\u001b[0m \u001b[0;34m=\u001b[0m \u001b[0msolvefunc\u001b[0m\u001b[0;34m.\u001b[0m\u001b[0mget_general_solution\u001b[0m\u001b[0;34m(\u001b[0m\u001b[0;34m)\u001b[0m\u001b[0;34m\u001b[0m\u001b[0;34m\u001b[0m\u001b[0m\n\u001b[1;32m    694\u001b[0m         \u001b[0;32melse\u001b[0m\u001b[0;34m:\u001b[0m\u001b[0;34m\u001b[0m\u001b[0;34m\u001b[0m\u001b[0m\n\u001b[0;32m--> 695\u001b[0;31m             \u001b[0msols\u001b[0m \u001b[0;34m=\u001b[0m \u001b[0msolvefunc\u001b[0m\u001b[0;34m(\u001b[0m\u001b[0meq\u001b[0m\u001b[0;34m,\u001b[0m \u001b[0mfunc\u001b[0m\u001b[0;34m,\u001b[0m \u001b[0morder\u001b[0m\u001b[0;34m,\u001b[0m \u001b[0mmatch\u001b[0m\u001b[0;34m)\u001b[0m\u001b[0;34m\u001b[0m\u001b[0;34m\u001b[0m\u001b[0m\n\u001b[0m\u001b[1;32m    696\u001b[0m         \u001b[0;32mif\u001b[0m \u001b[0miterable\u001b[0m\u001b[0;34m(\u001b[0m\u001b[0msols\u001b[0m\u001b[0;34m)\u001b[0m\u001b[0;34m:\u001b[0m\u001b[0;34m\u001b[0m\u001b[0;34m\u001b[0m\u001b[0m\n\u001b[1;32m    697\u001b[0m             \u001b[0mrv\u001b[0m \u001b[0;34m=\u001b[0m \u001b[0;34m[\u001b[0m\u001b[0modesimp\u001b[0m\u001b[0;34m(\u001b[0m\u001b[0meq\u001b[0m\u001b[0;34m,\u001b[0m \u001b[0ms\u001b[0m\u001b[0;34m,\u001b[0m \u001b[0mfunc\u001b[0m\u001b[0;34m,\u001b[0m \u001b[0mhint\u001b[0m\u001b[0;34m)\u001b[0m \u001b[0;32mfor\u001b[0m \u001b[0ms\u001b[0m \u001b[0;32min\u001b[0m \u001b[0msols\u001b[0m\u001b[0;34m]\u001b[0m\u001b[0;34m\u001b[0m\u001b[0;34m\u001b[0m\u001b[0m\n",
            "\u001b[0;32m/usr/local/lib/python3.7/dist-packages/sympy/solvers/ode/ode.py\u001b[0m in \u001b[0;36mode_lie_group\u001b[0;34m(eq, func, order, match)\u001b[0m\n\u001b[1;32m   5449\u001b[0m     \u001b[0;32mif\u001b[0m \u001b[0mdesols\u001b[0m \u001b[0;34m==\u001b[0m \u001b[0;34m[\u001b[0m\u001b[0;34m]\u001b[0m\u001b[0;34m:\u001b[0m\u001b[0;34m\u001b[0m\u001b[0;34m\u001b[0m\u001b[0m\n\u001b[1;32m   5450\u001b[0m         raise NotImplementedError(\"The given ODE \" + str(eq) + \" cannot be solved by\"\n\u001b[0;32m-> 5451\u001b[0;31m             + \" the lie group method\")\n\u001b[0m\u001b[1;32m   5452\u001b[0m     \u001b[0;32mreturn\u001b[0m \u001b[0mdesols\u001b[0m\u001b[0;34m\u001b[0m\u001b[0;34m\u001b[0m\u001b[0m\n\u001b[1;32m   5453\u001b[0m \u001b[0;34m\u001b[0m\u001b[0m\n",
            "\u001b[0;31mNotImplementedError\u001b[0m: The given ODE 2*Subs(Derivative(x(t), t), t, 2) cannot be solved by the lie group method"
          ]
        }
      ]
    },
    {
      "cell_type": "code",
      "metadata": {
        "colab": {
          "base_uri": "https://localhost:8080/",
          "height": 340
        },
        "id": "4qjsXVLpT9_Z",
        "outputId": "205efe59-9898-411b-9a59-f2ef4e9a95b5"
      },
      "source": [
        ""
      ],
      "execution_count": null,
      "outputs": [
        {
          "output_type": "error",
          "ename": "ValueError",
          "evalue": "ignored",
          "traceback": [
            "\u001b[0;31m---------------------------------------------------------------------------\u001b[0m",
            "\u001b[0;31mValueError\u001b[0m                                Traceback (most recent call last)",
            "\u001b[0;32m<ipython-input-45-ab62d877afe8>\u001b[0m in \u001b[0;36m<module>\u001b[0;34m()\u001b[0m\n\u001b[0;32m----> 1\u001b[0;31m \u001b[0mdsolve\u001b[0m\u001b[0;34m(\u001b[0m\u001b[0;34m[\u001b[0m\u001b[0mec1\u001b[0m\u001b[0;34m,\u001b[0m\u001b[0mec2\u001b[0m\u001b[0;34m]\u001b[0m\u001b[0;34m)\u001b[0m\u001b[0;34m\u001b[0m\u001b[0;34m\u001b[0m\u001b[0m\n\u001b[0m",
            "\u001b[0;32m/usr/local/lib/python3.7/dist-packages/sympy/solvers/ode/ode.py\u001b[0m in \u001b[0;36mdsolve\u001b[0;34m(eq, func, hint, simplify, ics, xi, eta, x0, n, **kwargs)\u001b[0m\n\u001b[1;32m    581\u001b[0m         \u001b[0;31m# been solved.\u001b[0m\u001b[0;34m\u001b[0m\u001b[0;34m\u001b[0m\u001b[0;34m\u001b[0m\u001b[0m\n\u001b[1;32m    582\u001b[0m         \u001b[0;32mtry\u001b[0m\u001b[0;34m:\u001b[0m\u001b[0;34m\u001b[0m\u001b[0;34m\u001b[0m\u001b[0m\n\u001b[0;32m--> 583\u001b[0;31m             \u001b[0msol\u001b[0m \u001b[0;34m=\u001b[0m \u001b[0mdsolve_system\u001b[0m\u001b[0;34m(\u001b[0m\u001b[0meq\u001b[0m\u001b[0;34m,\u001b[0m \u001b[0mfuncs\u001b[0m\u001b[0;34m=\u001b[0m\u001b[0mfunc\u001b[0m\u001b[0;34m,\u001b[0m \u001b[0mics\u001b[0m\u001b[0;34m=\u001b[0m\u001b[0mics\u001b[0m\u001b[0;34m,\u001b[0m \u001b[0mdoit\u001b[0m\u001b[0;34m=\u001b[0m\u001b[0;32mTrue\u001b[0m\u001b[0;34m)\u001b[0m\u001b[0;34m\u001b[0m\u001b[0;34m\u001b[0m\u001b[0m\n\u001b[0m\u001b[1;32m    584\u001b[0m             \u001b[0;32mreturn\u001b[0m \u001b[0msol\u001b[0m\u001b[0;34m[\u001b[0m\u001b[0;36m0\u001b[0m\u001b[0;34m]\u001b[0m \u001b[0;32mif\u001b[0m \u001b[0mlen\u001b[0m\u001b[0;34m(\u001b[0m\u001b[0msol\u001b[0m\u001b[0;34m)\u001b[0m \u001b[0;34m==\u001b[0m \u001b[0;36m1\u001b[0m \u001b[0;32melse\u001b[0m \u001b[0msol\u001b[0m\u001b[0;34m\u001b[0m\u001b[0;34m\u001b[0m\u001b[0m\n\u001b[1;32m    585\u001b[0m         \u001b[0;32mexcept\u001b[0m \u001b[0mNotImplementedError\u001b[0m\u001b[0;34m:\u001b[0m\u001b[0;34m\u001b[0m\u001b[0;34m\u001b[0m\u001b[0m\n",
            "\u001b[0;32m/usr/local/lib/python3.7/dist-packages/sympy/solvers/ode/systems.py\u001b[0m in \u001b[0;36mdsolve_system\u001b[0;34m(eqs, funcs, t, ics, doit, simplify)\u001b[0m\n\u001b[1;32m   2096\u001b[0m         raise ValueError(filldedent('''\n\u001b[1;32m   2097\u001b[0m             \u001b[0mNumber\u001b[0m \u001b[0mof\u001b[0m \u001b[0mequations\u001b[0m \u001b[0;32mand\u001b[0m \u001b[0mnumber\u001b[0m \u001b[0mof\u001b[0m \u001b[0mfunctions\u001b[0m \u001b[0mdon\u001b[0m\u001b[0;31m'\u001b[0m\u001b[0mt\u001b[0m \u001b[0mmatch\u001b[0m\u001b[0;34m\u001b[0m\u001b[0;34m\u001b[0m\u001b[0m\n\u001b[0;32m-> 2098\u001b[0;31m         '''))\n\u001b[0m\u001b[1;32m   2099\u001b[0m \u001b[0;34m\u001b[0m\u001b[0m\n\u001b[1;32m   2100\u001b[0m     \u001b[0;32mif\u001b[0m \u001b[0mt\u001b[0m \u001b[0;32mis\u001b[0m \u001b[0;32mnot\u001b[0m \u001b[0;32mNone\u001b[0m \u001b[0;32mand\u001b[0m \u001b[0;32mnot\u001b[0m \u001b[0misinstance\u001b[0m\u001b[0;34m(\u001b[0m\u001b[0mt\u001b[0m\u001b[0;34m,\u001b[0m \u001b[0mSymbol\u001b[0m\u001b[0;34m)\u001b[0m\u001b[0;34m:\u001b[0m\u001b[0;34m\u001b[0m\u001b[0;34m\u001b[0m\u001b[0m\n",
            "\u001b[0;31mValueError\u001b[0m: \nNumber of equations and number of functions don't match"
          ]
        }
      ]
    },
    {
      "cell_type": "code",
      "metadata": {
        "id": "e6iw4qA0VjVc"
      },
      "source": [
        ""
      ],
      "execution_count": null,
      "outputs": []
    }
  ]
}